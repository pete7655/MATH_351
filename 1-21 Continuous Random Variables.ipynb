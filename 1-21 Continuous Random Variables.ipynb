{
 "cells": [
  {
   "cell_type": "code",
   "execution_count": 1,
   "metadata": {},
   "outputs": [],
   "source": [
    "import sympy as sp\n",
    "import numpy as np\n",
    "import matplotlib.pyplot as plt"
   ]
  },
  {
   "cell_type": "markdown",
   "metadata": {},
   "source": [
    "# Continuous Random Variables\n",
    "\n",
    "Now we will introduce continuous random variables. Following a similar pattern to before, we will discuss a few of the basic ideas and then introduce some specific distributions that model common situations and have enough structure to them we can compute with them.\n",
    "\n",
    "For now, let's assume that our continuous random variable is taking values over the real numbers $\\mathbb{R}$ or some subset of the real numbers.\n",
    "\n",
    "## The Big Problem\n",
    "\n",
    "So the big difference between discrete random variables and continuous random variables is that for a Discrete Random Variable, the *Probability Distribution Function* gives:\n",
    "\n",
    "$$P(Y=y) = \\mbox{The probability that the discrete random variable Y takes on the value y}$$\n",
    "\n",
    "Then the probabiliuty that the discrete random variables in an inteval:\n",
    "\n",
    "$$ P(a \\leq Y \\leq b) = \\sum_{a \\leq y \\leq b} P(y) $$\n",
    "\n",
    "## Cumulative Distribution Function\n",
    "\n",
    "The struggle with a continuous random variable, is that the probability that the variable takes on a particular value must be 0.  This might seem strange, and it will become clearer as we get the structure set up, but the idea is that there is a continuum of values the variable can take and that menas having it land on any one value is impossible.\n",
    "\n",
    "We need a definition and structure that works for both discrete and continuous random variables. What will work is: Define $F(y)$ to be the *Cumulative Distribution Function*:\n",
    "\n",
    "$$ F(y) = P(Y \\leq y) = \\mbox{The probability that Y is less than or equal to y} $$\n",
    "\n",
    "$F(y)$ has some easy to derive properties for any continuous random variable:\n",
    "\n",
    "- $0 \\leq F(y) \\leq 1 $ \n",
    "- $F(y)$ is a non-decreasing function (it accumulates the probabilities).\n",
    "\n",
    "If $y_1 > y_2$ then $$ F(y_1) \\geq F(y_2) $$\n",
    "\n",
    "- $F(y) \\to 0 $ as $y \\to - \\infty$\n",
    "- $F(y) \\to 1 $ as $y \\to \\infty$\n",
    "\n",
    "If $Y$ is a discrete random variable, then $F(y)$ has a jump discontinuity when $P(Y = y) \\neq 0$. \n",
    "\n",
    "A random variable $Y$ is called a continuous random variable if the cummulative distribution function $F(y)$ for it is itself continuous."
   ]
  },
  {
   "cell_type": "markdown",
   "metadata": {},
   "source": [
    "## Probability Density Function\n",
    "\n",
    "The *Probability Density Function* or PDF of a continuous random variable is \n",
    "\n",
    "$$ f(y) = \\frac{d}{dy} F(y) = F'(y) $$ \n",
    "\n",
    "wherever the derivative exists. \n",
    "\n",
    "It of course follows from the fundamental theorem of Calculus that\n",
    "\n",
    "$$ F(y) = \\int_{-\\infty}^y f(y) dy $$\n",
    "\n",
    "Provided that $f(y)$ existed.\n",
    "\n",
    "### What is going on\n",
    "\n",
    "So as we predicted, the idea of summing over some values to get the probability has indeed turned into integration, with some caveats. The main one being that continuous functions $F(y)$ do not always have derivatives. (It turns out the non-decreasing part helps, but just think about functions with corners). The other problem being that PDF are not exactly the same as Probability Distributions and in particular $f(y)$ is **NOT** $P(y)$.\n",
    "\n"
   ]
  },
  {
   "cell_type": "markdown",
   "metadata": {},
   "source": [
    "### Properties of the PDF\n",
    "\n",
    "The *Probability Density Function* $f(y)$ inherits some properties from $F(y)$:\n",
    "\n",
    "- $f(y) \\geq 0 $ for all y\n",
    "- $f(y) \\to 0 $ for $y \\to \\pm \\infty$ \n",
    "- $\\int_{-\\infty}^\\infty f(y) dy = 1 $"
   ]
  },
  {
   "cell_type": "markdown",
   "metadata": {},
   "source": [
    "## Example: Uniform Random Variable\n",
    "\n",
    "A definition for uniform random variable would be that the probability, where the density is non zero, of the value being in an interval is proportional to the length of the interval.\n",
    "\n",
    "Suppose that Y is the continuous random variable with probability density function \n",
    "\n",
    "$$ f(y) = \\left\\{ \\begin{matrix} 1 & y \\in [0, 1] \\\\ 0 & \\mbox{otherwise} \\end{matrix} \\right. $$\n",
    "\n",
    "I.e. every value of y in $[0, 1]$ is equally likely. **Note this is wrong! We need to fix it** \n",
    "\n",
    "The probablity that y is in $[a, b]$ for $0 \\leq a < b \\leq 1 $ is ....\n",
    "\n"
   ]
  },
  {
   "cell_type": "markdown",
   "metadata": {},
   "source": [
    "$$ \\int_a^b f(y) dy = \\int_a^b 1 dy = (b-a) $$"
   ]
  },
  {
   "cell_type": "markdown",
   "metadata": {},
   "source": [
    "Then the cummulative distribution function is given by the integral of this:\n",
    "\n",
    "$$ F(y) = \\int_{-\\infty}^y f(y) dy $$"
   ]
  },
  {
   "cell_type": "markdown",
   "metadata": {},
   "source": [
    "If $0 < y $\n",
    "\n",
    "$$ F(y) = \\int_0^y f(y) dy $$\n",
    "\n",
    "If $0< y< 1$:  $$F(y)= \\int_0^y 1 dy = y $$\n",
    "\n",
    "If $y > 1$\n",
    "\n",
    "$$ F(y) = \\int_0^1 1 dy = 1 $$"
   ]
  },
  {
   "cell_type": "markdown",
   "metadata": {},
   "source": [
    "If y < 0:  $$ F(y) = \\int_{-\\infty}^y f(y) dy = 0 $$"
   ]
  },
  {
   "cell_type": "markdown",
   "metadata": {},
   "source": [
    "Summing up:\n",
    "\n",
    "$$ F(y) = \\left\\{ \\begin{matrix} 0 & y < 0 \\\\ y & 0 \\leq y \\leq 1 \\\\ 1 & y > 1 \\end{matrix} \\right. $$"
   ]
  },
  {
   "cell_type": "code",
   "execution_count": 4,
   "metadata": {},
   "outputs": [
    {
     "data": {
      "text/plain": [
       "[<matplotlib.lines.Line2D at 0x115f5d390>]"
      ]
     },
     "execution_count": 4,
     "metadata": {},
     "output_type": "execute_result"
    },
    {
     "data": {
      "image/png": "[encoded data removed]",
      "text/plain": [
       "<Figure size 432x288 with 1 Axes>"
      ]
     },
     "metadata": {
      "needs_background": "light"
     },
     "output_type": "display_data"
    }
   ],
   "source": [
    "yy = np.arange(-1, 3, 0.1)\n",
    "def F(y):\n",
    "    if y<0:\n",
    "        return 0\n",
    "    elif y>1:\n",
    "        return 1\n",
    "    else:\n",
    "        return y\n",
    "    \n",
    "FF= [ F(y) for y in yy]\n",
    "\n",
    "plt.plot(yy, FF, 'b-')"
   ]
  },
  {
   "cell_type": "markdown",
   "metadata": {},
   "source": [
    "## Probability Contribution\n",
    "\n",
    "Let $Y$ be a continuous random variable with Cummulative Distribution Function $F(y)$ and Probability Density Function $f(y)$ then:\n",
    "\n",
    "$$ P(a \\leq Y \\leq b) = F(b) - F(a) = \\int_a^b f(y) dy $$"
   ]
  },
  {
   "cell_type": "markdown",
   "metadata": {},
   "source": [
    "## Example\n",
    "\n",
    "Let $f(y) = c \\sin(\\pi y) $ for y on $[0, 1]$ and 0 elswhere:\n",
    "\n",
    "1. Find the value of $c$ so that $f(y)$ is a valid PDF."
   ]
  },
  {
   "cell_type": "markdown",
   "metadata": {},
   "source": [
    "We will choose $c$ so that $\\int_{-\\infty}^\\infty f(y) dy = 1$\n",
    "\n",
    "I.e. $$ c = \\frac{1}{\\int_0^1 \\sin(\\pi y) dy } $$"
   ]
  },
  {
   "cell_type": "code",
   "execution_count": 5,
   "metadata": {},
   "outputs": [],
   "source": [
    "y = sp.Symbol('y')"
   ]
  },
  {
   "cell_type": "code",
   "execution_count": 11,
   "metadata": {},
   "outputs": [
    {
     "data": {
      "text/latex": [
       "$\\displaystyle \\frac{2}{\\pi}$"
      ],
      "text/plain": [
       "2/pi"
      ]
     },
     "execution_count": 11,
     "metadata": {},
     "output_type": "execute_result"
    }
   ],
   "source": [
    "sp.integrate(sp.sin(sp.pi * y), (y, 0, 1) )"
   ]
  },
  {
   "cell_type": "markdown",
   "metadata": {},
   "source": [
    "$$ c = \\frac{\\pi}{2} $$"
   ]
  },
  {
   "cell_type": "markdown",
   "metadata": {},
   "source": [
    "2. Then find the probability that Y is in [0, 1/4].  "
   ]
  },
  {
   "cell_type": "code",
   "execution_count": 19,
   "metadata": {},
   "outputs": [
    {
     "data": {
      "text/latex": [
       "$\\displaystyle 0$"
      ],
      "text/plain": [
       "0"
      ]
     },
     "execution_count": 19,
     "metadata": {},
     "output_type": "execute_result"
    }
   ],
   "source": [
    "sp.integrate( sp.pi/2 * sp.sin(sp.pi * y), (y, 0, 2) )"
   ]
  },
  {
   "cell_type": "code",
   "execution_count": 13,
   "metadata": {},
   "outputs": [
    {
     "data": {
      "text/plain": [
       "0.1464466094067262"
      ]
     },
     "execution_count": 13,
     "metadata": {},
     "output_type": "execute_result"
    }
   ],
   "source": [
    "0.5 - np.sqrt(2)/4"
   ]
  },
  {
   "cell_type": "markdown",
   "metadata": {},
   "source": [
    "## Expected Values for Continuous Random Variables\n",
    "\n",
    "The *Expected Value* of a continuous random variable with PDF is:\n",
    "\n",
    "$$ E(Y) = \\int_{-\\infty}^\\infty y f(y) dy $$\n",
    "\n",
    "Provided that this integral exists. \n",
    "\n",
    "More generally:\n",
    "\n",
    "$$ E(g(Y)) = \\int_{-\\infty}^\\infty g(y) f(y) dy $$ \n",
    "\n",
    "(again provided that the integral exists).\n",
    "\n",
    "### Variance for Continuous Random Variables\n",
    "\n",
    "Let $\\mu = E(Y)$ then:\n",
    "\n",
    "$$ \\sigma^2 = V(Y) = E( (Y-\\mu)^2 ) = \\int_{-\\infty}^\\infty (y-\\mu)^2 f(y) dy $$\n",
    "\n",
    "(provided that this integeral exists)."
   ]
  },
  {
   "cell_type": "markdown",
   "metadata": {},
   "source": [
    "### Example\n",
    "\n",
    "Using $f(y) = c \\sin(\\pi y)$ for y on $[0, 1]$ and 0 elswhere, with c chosen as above. Find the expected value and variance of the corresponding Y. "
   ]
  },
  {
   "cell_type": "code",
   "execution_count": null,
   "metadata": {},
   "outputs": [],
   "source": []
  },
  {
   "cell_type": "code",
   "execution_count": 20,
   "metadata": {},
   "outputs": [
    {
     "data": {
      "text/latex": [
       "$\\displaystyle \\frac{1}{2}$"
      ],
      "text/plain": [
       "1/2"
      ]
     },
     "execution_count": 20,
     "metadata": {},
     "output_type": "execute_result"
    }
   ],
   "source": [
    "sp.integrate( y * sp.pi/2 * sp.sin(sp.pi * y), (y, 0, 1) )"
   ]
  },
  {
   "cell_type": "code",
   "execution_count": 21,
   "metadata": {},
   "outputs": [
    {
     "data": {
      "text/latex": [
       "$\\displaystyle \\frac{\\pi \\left(- \\frac{2.0}{\\pi^{3}} + \\frac{0.25}{\\pi}\\right)}{2} - \\frac{\\pi \\left(- \\frac{0.25}{\\pi} + \\frac{2.0}{\\pi^{3}}\\right)}{2}$"
      ],
      "text/plain": [
       "pi*(-2.0/pi**3 + 0.25/pi)/2 - pi*(-0.25/pi + 2.0/pi**3)/2"
      ]
     },
     "execution_count": 21,
     "metadata": {},
     "output_type": "execute_result"
    }
   ],
   "source": [
    "sp.integrate( (y-1/2)**2 * sp.pi/2 * sp.sin(sp.pi * y), (y, 0, 1)) "
   ]
  },
  {
   "cell_type": "code",
   "execution_count": 24,
   "metadata": {},
   "outputs": [
    {
     "data": {
      "text/plain": [
       "0.04735763271532443"
      ]
     },
     "execution_count": 24,
     "metadata": {},
     "output_type": "execute_result"
    }
   ],
   "source": [
    "np.pi*(-2/np.pi**3 + 0.25/np.pi)/2 - np.pi*(- 0.25/np.pi + 2.0 / np.pi**3)/2"
   ]
  },
  {
   "cell_type": "code",
   "execution_count": null,
   "metadata": {},
   "outputs": [],
   "source": []
  },
  {
   "cell_type": "markdown",
   "metadata": {},
   "source": [
    "## Uniform Distribution\n",
    "\n",
    "Consider the uniform continuous random variable on the interval $(a, b)$:\n",
    "\n",
    "$$ f(y) = \\left\\{ \\begin{matrix} \\frac{1}{b-a} &  y \\in [a, b] \\\\ 0 & \\mbox{otherwise} \\end{matrix} \\right. $$\n",
    "\n",
    "Then $$E(Y) = \\frac{a+b}{2} $$ and $$\\sigma^2 = V(Y) = \\frac{(b-a)^2}{12} $$"
   ]
  },
  {
   "cell_type": "markdown",
   "metadata": {},
   "source": [
    "$$ E(Y) = \\int_a^b \\frac{1}{b-a} y dy  = \\frac{1}{2(b-a)} y^2 |_a^b $$ "
   ]
  },
  {
   "cell_type": "markdown",
   "metadata": {},
   "source": [
    "$$ \\frac{1}{2(b-a)} \\left( b^2 - a^2 \\right) = \\frac{1}{2(b-a)} (b-a)(b+a) = \\frac{b+a}{2} $$"
   ]
  },
  {
   "cell_type": "code",
   "execution_count": null,
   "metadata": {},
   "outputs": [],
   "source": []
  }
 ],
 "metadata": {
  "kernelspec": {
   "display_name": "Python 3",
   "language": "python",
   "name": "python3"
  },
  "language_info": {
   "codemirror_mode": {
    "name": "ipython",
    "version": 3
   },
   "file_extension": ".py",
   "mimetype": "text/x-python",
   "name": "python",
   "nbconvert_exporter": "python",
   "pygments_lexer": "ipython3",
   "version": "3.7.4"
  }
 },
 "nbformat": 4,
 "nbformat_minor": 4
}
