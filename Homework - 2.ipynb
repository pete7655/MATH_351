{
 "cells": [
  {
   "cell_type": "markdown",
   "metadata": {},
   "source": [
    "# Homework 2 - Poisson and Continuous\n",
    "\n",
    "1. A call center finds that on average they recieve 120 calls per hour, 24 hours per day. Assuming that the number of calls per minute is a Poisson Random Varialbe: How many calls do they expect per minute?  How likely is it that they will have a minute with no calls? How likely is it that they will have a 10 minute period with no calls?"
   ]
  },
  {
   "cell_type": "markdown",
   "metadata": {},
   "source": [
    "2. A circle of radius $r$ has area $A = \\pi r^2$. If a random circle has a radius that is uniformly distributed on the interval $(0, 1)$, what are the mean and variance of the area of the circle?"
   ]
  },
  {
   "cell_type": "code",
   "execution_count": null,
   "metadata": {},
   "outputs": [],
   "source": []
  }
 ],
 "metadata": {
  "kernelspec": {
   "display_name": "Python 3",
   "language": "python",
   "name": "python3"
  },
  "language_info": {
   "codemirror_mode": {
    "name": "ipython",
    "version": 3
   },
   "file_extension": ".py",
   "mimetype": "text/x-python",
   "name": "python",
   "nbconvert_exporter": "python",
   "pygments_lexer": "ipython3",
   "version": "3.7.4"
  }
 },
 "nbformat": 4,
 "nbformat_minor": 4
}
