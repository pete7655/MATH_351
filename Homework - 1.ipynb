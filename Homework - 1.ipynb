{
 "cells": [
  {
   "cell_type": "markdown",
   "metadata": {},
   "source": [
    "# Homework 1 - The Birthday Paradox\n",
    "\n",
    "1. What is the likliehood that in a room of 25 people, one of them has the same birthday as you?"
   ]
  },
  {
   "cell_type": "markdown",
   "metadata": {},
   "source": [
    "2. Suppose you are at the door letting people into a room and you stop when the first person with your birthday comes in. How many people do you expect to let into the room (including the one with your birthday)?"
   ]
  },
  {
   "cell_type": "markdown",
   "metadata": {},
   "source": [
    "3. Now consider a slightly different problem. What is the probability that in a room with 25 people, two of them share the same birthday. Note this is not exactly a binomial probability situation, but it is closely related."
   ]
  },
  {
   "cell_type": "markdown",
   "metadata": {},
   "source": [
    "4. Likewise. Suppose you are letting people into a room one at a time, and collecting a ticket from them with their birthday on it. You will stop letting them in, the first time you get a duplicate ticket. How many people do you expect to have let into the room?"
   ]
  },
  {
   "cell_type": "code",
   "execution_count": null,
   "metadata": {},
   "outputs": [],
   "source": []
  }
 ],
 "metadata": {
  "kernelspec": {
   "display_name": "Python 3",
   "language": "python",
   "name": "python3"
  },
  "language_info": {
   "codemirror_mode": {
    "name": "ipython",
    "version": 3
   },
   "file_extension": ".py",
   "mimetype": "text/x-python",
   "name": "python",
   "nbconvert_exporter": "python",
   "pygments_lexer": "ipython3",
   "version": "3.7.4"
  }
 },
 "nbformat": 4,
 "nbformat_minor": 4
}
