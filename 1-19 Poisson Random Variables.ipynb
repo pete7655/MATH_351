{
 "cells": [
  {
   "cell_type": "code",
   "execution_count": 1,
   "metadata": {},
   "outputs": [],
   "source": [
    "# We will need a factorial and binomial coefficient function for some of the computations today\n",
    "\n",
    "def factorial(n):\n",
    "    \n",
    "    if n < 1:\n",
    "        return 1\n",
    "    else:\n",
    "        return n*factorial(n-1)\n",
    "    \n",
    "def binom(m, n):\n",
    "    \n",
    "    return factorial(m)/( factorial(m-n)*factorial(n))"
   ]
  },
  {
   "cell_type": "markdown",
   "metadata": {},
   "source": [
    "# The Poisson Probability Distribution\n",
    "\n",
    "Consider the following random variable:  Over a given week, at a particular traffic intersection, let $Y$ be the number of car accidents that occur. How are we going to try to understand this random variable, and add some structure to it so we can work with it.\n",
    "\n",
    "The main idea is to break the time interval, in this case a week, into small enough intervals that it would be impossible for one of these intervals to have more than one accident. Suppose then that the probability of an accident in any of those subintervals is $p$:\n",
    "\n",
    "$$ P(\\mbox{no accidents occur in the subinterval}) = 1 - p $$\n",
    "$$ P(\\mbox{one accident occurs in the subinterval}) = p $$\n",
    "$$ P(\\mbox{more than one accident occurs in the subinterval}) = 0 $$\n",
    "\n",
    "Then \n",
    "\n",
    "$$ Y = \\mbox{# of subintervals in the week that contain one accident} $$\n",
    "\n",
    "and it is a binomial random variables so with $n$ subintervals:\n",
    "\n",
    "$$ P(Y=y) = \\binom{n}{y} p^y (1-p)^{n-y} $$ \n",
    "\n",
    "## Limits\n",
    "\n",
    "You know the idea now. Let's keep taking the number of subintevals to be larger (or in other words the size of the subintervals to be smaller). Of course what must happen is that the probability $p$ is decreasing as we make the subintervals smaller and eventually we expect that $p = \\frac{\\lambda}{n} $ for some $\\lambda$ and $n$ subintervals for n large enough. Then the binomial probability gives:\n",
    "\n",
    "$$ \\lim_{n\\to \\infty} \\binom{n}{y} p^y (1-p)^{n-y} = \\lim_{n\\to infty} \\frac{n!}{y! (n-y)!} \\left( \\frac{\\lambda}{n} \\right)^y \\left( 1 - \\frac{\\lambda}{n} \\right)^{n-y} $$\n",
    "\n",
    "$$ = \\frac{\\lambda^y}{y!} \\lim_{n\\to \\infty} \\left(1 - \\frac{\\lambda}{n}\\right)^n \\times \\left(1 - \\frac{\\lambda}{n} \\right)^{-y} \\times \\left(1 - \\frac{1}{n} \\right) \\times \\dots \\times \\left(1 - \\frac{y-1}{n} \\right) $$\n",
    "\n",
    "The terms other than the first term inside the limit goes to 1, and the first term gives:\n",
    "$$ \\lim_{n\\to \\infty} \\left(1 - \\frac{\\lambda}{n} \\right)^n = e^{-\\lambda} $$ \n",
    "\n",
    "Therefore what we find is that:\n",
    "\n",
    "$$ P(Y=y) = \\frac{\\lambda^y}{y!} e^{-\\lambda} $$ \n",
    "\n",
    "Which is now independent of the subintervals we divide the week in to. Random variables possessing this distribution for some $\\lambda > 0$ are called Poisson Discrete Random Variables, and this is the Poisson Probability Distribution. \n"
   ]
  },
  {
   "cell_type": "code",
   "execution_count": 4,
   "metadata": {},
   "outputs": [],
   "source": [
    "from numpy import exp\n",
    "import matplotlib.pyplot as plt\n",
    "import numpy as np"
   ]
  },
  {
   "cell_type": "code",
   "execution_count": 17,
   "metadata": {},
   "outputs": [],
   "source": [
    "def plot_poisson(llambda):\n",
    "\n",
    "    yy = np.arange(20)\n",
    "\n",
    "    p = []\n",
    "    for y in yy:\n",
    "        p += [ llambda**y / factorial(y) * exp(-llambda) ]\n",
    "    \n",
    "    plt.figure(figsize=(12, 7))\n",
    "    plt.bar(yy, p);\n",
    "    \n",
    "    return 1"
   ]
  },
  {
   "cell_type": "code",
   "execution_count": 24,
   "metadata": {},
   "outputs": [
    {
     "data": {
      "text/plain": [
       "1"
      ]
     },
     "execution_count": 24,
     "metadata": {},
     "output_type": "execute_result"
    },
    {
     "data": {
      "image/png": "[encoded data removed]",
      "text/plain": [
       "<Figure size 864x504 with 1 Axes>"
      ]
     },
     "metadata": {
      "needs_background": "light"
     },
     "output_type": "display_data"
    }
   ],
   "source": [
    "plot_poisson(2)"
   ]
  },
  {
   "cell_type": "markdown",
   "metadata": {},
   "source": [
    "## Poisson Distribution\n",
    "\n",
    "So play with this a bit and notice that the distribution greatly depends on the value of the parameter $\\lambda$. \n",
    "\n",
    "There are a few things we should check:\n",
    "\n",
    "- $$ \\sum_{y=0}^\\infty P(y) = 1 $$\n",
    "\n",
    "- $$ 0 \\leq P(y) \\leq 1 $$\n",
    "\n",
    "for all $\\lambda$."
   ]
  },
  {
   "cell_type": "markdown",
   "metadata": {},
   "source": [
    "## Expected Value \n",
    "\n",
    "Let's compute the expected value for the Poisson Distribution with parameter $\\lambda$:\n",
    "\n",
    "$$ E(Y) = \\sum_{y=0}^\\infty y P(y) = \\sum_{y=0}^\\infty y \\frac{\\lambda^y}{y!} e^{-\\lambda} $$\n",
    "\n",
    "$$ = e^{-\\lambda} \\sum_{y=1}^\\infty \\frac{\\lambda^y}{(y-1)!} $$\n",
    "$$ = \\lambda e^{-\\lambda} \\sum_{y=0}^\\infty \\frac{\\lambda^y}{y!} $$\n",
    "$$ = \\lambda e^{-\\lambda} e^{\\lambda} = \\lambda $$\n",
    "\n",
    "So in fact the parameter $\\lambda$ is the mean or expected value of the Poisson random variable. \n",
    "\n",
    "Likewise one can show that the variance is:  $$ \\sigma^2 = V(Y) = \\lambda $$ as well."
   ]
  },
  {
   "cell_type": "markdown",
   "metadata": {},
   "source": [
    "Lot's of questions involving counting the number of things over a given length, area, or volume, or over some unit of time behave like Poisson varaibles.\n",
    "\n",
    "## Example: Customers. \n",
    "\n",
    "There are 33,380 customers of a website from metropolitan Denver, a region with an area of 8,345 square miles. Find the mean number of customers per square mile. Assuming the number of customers in a given area is Poisson, what is the probability that any given square mile of DMA has no customers?"
   ]
  },
  {
   "cell_type": "markdown",
   "metadata": {},
   "source": [
    "## Example: Accidents\n",
    "\n",
    "A company has found that the number of on the job accidents by employees during the year is a Poisson random variable, and that the mean number of accidents is 5 per year. 16 accidents happened last year, is this improbable with the historic mean i.e. does it indicate that the mean number is changing?\n",
    "\n",
    "Note that what we are really asking here is how likely is it that the number of accidents was 10 or more - i.e. is 10 or more a likely result?"
   ]
  },
  {
   "cell_type": "markdown",
   "metadata": {},
   "source": [
    "## Example: Customers in Line\n",
    "\n",
    "A store finds that their cashiers work with a mean of 40 customers per hour. Suppose one of the cashiers is called away from their register for 3 minutes. \n",
    "\n",
    "1. What is the probability that no customers arrive at their register in that time?\n",
    "\n",
    "2. What is the expected number of customers that will be waiting for them when they return (assuming no one leaves the store)."
   ]
  },
  {
   "cell_type": "markdown",
   "metadata": {},
   "source": [
    "## Poisson Approximation\n",
    "\n",
    "The Poisson distribution gives a useful approximation to the binomial distribution when the parameter $n$ the number of trials is large (it is more or less part of the derivation of the Poisson distribution).  However with modern computers this is less useful than it used to be. In any case consider a Binomial Random Variable $Y$ with $n = 25$ and $p=0.15$.\n",
    "\n",
    "- Compute the exact value of $P(Y\\leq 5)$."
   ]
  },
  {
   "cell_type": "markdown",
   "metadata": {},
   "source": [
    "- Compute the Poisson Probability $P(Y\\leq 5)$ using $\\lambda = n p $."
   ]
  },
  {
   "cell_type": "markdown",
   "metadata": {},
   "source": [
    "Repeate the computation with larger values of n and note that the Poisson approximation becomes more accurate."
   ]
  },
  {
   "cell_type": "markdown",
   "metadata": {},
   "source": [
    "# Other Discrete Distributions\n",
    "\n",
    "We will move on now to continuous distributions, but it is worth noting we have skipped a few common and useful discrete distributions that come up in other contexts:\n",
    "\n",
    "- Multinomial Distribution:  Similar to a Binomial Distribution but where the individual trials can have multiple outcomes instead of just success and failure. Think:  What is the grade distribution for a group of 25 students in a Calculus class?\n",
    "\n",
    "- Negative Binomial Distribution: A generalization of the Geometric Distribution to asking how long we need to wait for the 2nd, 3rd, etc. successful trial.\n",
    "\n",
    "- Hypergeometric Distribution: This is a distirbution found when we are sampling n trials from a population without replacement. The difference being that the trials in the sample are now dependent on each other.\n",
    "\n"
   ]
  },
  {
   "cell_type": "code",
   "execution_count": null,
   "metadata": {},
   "outputs": [],
   "source": []
  }
 ],
 "metadata": {
  "kernelspec": {
   "display_name": "Python 3",
   "language": "python",
   "name": "python3"
  },
  "language_info": {
   "codemirror_mode": {
    "name": "ipython",
    "version": 3
   },
   "file_extension": ".py",
   "mimetype": "text/x-python",
   "name": "python",
   "nbconvert_exporter": "python",
   "pygments_lexer": "ipython3",
   "version": "3.7.4"
  }
 },
 "nbformat": 4,
 "nbformat_minor": 4
}
