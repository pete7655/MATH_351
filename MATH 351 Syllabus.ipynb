{
 "cells": [
  {
   "cell_type": "markdown",
   "metadata": {},
   "source": [
    "# MATH 351 - Elementary Statistical Theory - Spring 2021"
   ]
  },
  {
   "cell_type": "markdown",
   "metadata": {},
   "source": [
    "## Class and Instructor Details\n",
    "\n",
    "MATH 351-003 - Elementary Statistical Theory (3 credits)\n",
    "\n",
    "### Instructor\n",
    "\n",
    "Virgil U Pierce <br/>\n",
    "Email: virgil.pierce@unco.edu <br/>\n",
    "Cell: 956-249-0566\n",
    "\n",
    "Office: Ross Hall 2239\n",
    "\n",
    "### Class Meetings\n",
    "\n",
    "Tuesday: 9:30 to 10:45 in person except for first two weeks<br/>\n",
    "Thursday: 9:30 to 10:45 online\n",
    "Ross Hall 2261\n",
    "\n",
    "### COVID-19 Adjustments\n",
    "\n",
    "We will start the first two weeks of Spring 2021 with online classes on both Tuesdays and Thursdays and then transition to in person classes on Tuesdays and online classes on Thursdays. <br/>\n",
    "\n",
    "However, the situation is fluid and additional adjustments may be needed. Please watch Canvas/Email for updates.\n",
    "\n",
    "### Student Hours\n",
    "\n",
    "Online and To be Determined.\n",
    "\n",
    "Appointments can be made via:  [https://virgilpierce.youcanbook.me](https://virgilpierce.youcanbook.me)"
   ]
  },
  {
   "cell_type": "markdown",
   "metadata": {},
   "source": [
    "## Course Description\n",
    "\n",
    "From the catalogue: A continuation of MATH 350. Learn about jointly distributed random variables, central limit theorem, sampling distributions, properties of estimation, confidence intervals and tests of hypothesis.\n",
    "\n",
    "Topics will include:\n",
    "\n",
    "- Sampling distributions and other methods of experimentation;\n",
    "- Random variables and jointly distributed random variables;\n",
    "- Population samples and the central limit theorem;\n",
    "- Point and Interval Estimations\n",
    "- Hypothesis Tests\n",
    "- Bayesian Methods\n",
    "\n",
    "### Programing\n",
    "\n",
    "Statistics is a subject that is best treated as a science and in particular extensive experimentation with the problems being considered is essential to understanding the results. As a result we will be using Python (specifically Numpy, Sympy, and Scipy) to run experiments and do computations of results. You will be provided with example code that can be modified for the problems we do in class, and really this is meant partly to build upon your experience from the Introductory Programming class. That said, CS 120 is not a prequisite for the course and so we will have a gentle introduction to using Python and extensive help built into the class.\n",
    "\n",
    "The good news is that you will not be asked to do Calculus computations by hand but instead will be able to use Sympy or Scipy algorithms for any integration results we need. \n",
    "\n",
    "The course materials for class are being written in Jupyter/Python and are available in Github as .ipynb files.\n",
    "\n",
    "You will need access to Python, here are some options:\n",
    "\n",
    "- To install it on your own computer or laptop I recommend downloading Anaconda: [https://www.anaconda.com/products/individual](https://www.anaconda.com/products/individual) which includes Jupyter and Python.\n",
    "- Google Colabs provides a Jupyter-like environment and Python (including the packages we will use), it also is integrated with Github. You will need a gmail account. [https://colab.research.google.com](https://colab.research.google.com)\n"
   ]
  },
  {
   "cell_type": "markdown",
   "metadata": {},
   "source": [
    "### Course Prerequisites\n",
    "\n",
    "MATH 350 and (possibly concurrent) MATH 233.\n",
    "\n",
    "While we will be using Python as part of class, CS 120 is not a prerequisite. We will have example programs to get started and will only use a small part of what Python offers as a programing language. This course in fact will serve as a nice introduction to Python programing.\n",
    " "
   ]
  },
  {
   "cell_type": "markdown",
   "metadata": {},
   "source": [
    "## Textbook and Software\n",
    "\n",
    "We will be following the textbook:  **Mathematical Statistics with Applications** by Wackerly, Mendenhall, and Scheaffer. While it is highly recommended, any problems or other work assigned will be provided separately and much of the course material can be found on the internet. \n",
    "\n",
    "### Jupyter Notebooks and Github\n",
    "\n",
    "The notes for class and the homework is written in Jupyter notebooks. [We will use github to distribute these here](https://github.com/virgilpierce/MATH_351). I have made it a public repository so it should be easy to find. You have two choices for using this link, you can download individual files from the repository, or you can set up your Github account and then download or clone the repository to your own computer to then open the files in Jupyter. You can use the \"Issues\" tab in the Github website to let me know about problems you have seen in the notes (typos or things that don't run).\n",
    "\n",
    "### Python References\n",
    "\n",
    "You may need a Python reference book, depending on whether you prefer a book or the web for referencing. Let me know if you would like me to recommend one.\n",
    "\n",
    "That said, while I like to have a book to refer to for programing, most of the time it does not have the detail I need, and I end up using in-line help or on-line help anyway. By the way, here are some examples of how you can get some inline help in Python:"
   ]
  },
  {
   "cell_type": "code",
   "execution_count": 2,
   "metadata": {},
   "outputs": [
    {
     "data": {
      "text/plain": [
       "\u001b[0;31mInit signature:\u001b[0m \u001b[0mlist\u001b[0m\u001b[0;34m(\u001b[0m\u001b[0miterable\u001b[0m\u001b[0;34m=\u001b[0m\u001b[0;34m(\u001b[0m\u001b[0;34m)\u001b[0m\u001b[0;34m,\u001b[0m \u001b[0;34m/\u001b[0m\u001b[0;34m)\u001b[0m\u001b[0;34m\u001b[0m\u001b[0;34m\u001b[0m\u001b[0m\n",
       "\u001b[0;31mDocstring:\u001b[0m     \n",
       "Built-in mutable sequence.\n",
       "\n",
       "If no argument is given, the constructor creates a new empty list.\n",
       "The argument must be an iterable if specified.\n",
       "\u001b[0;31mType:\u001b[0m           type\n"
      ]
     },
     "metadata": {},
     "output_type": "display_data"
    }
   ],
   "source": [
    "# Help page describing the function or object\n",
    "#   I use this to get some idea of the syntax for the function - that said, I usually \n",
    "#   end up looking on a website.\n",
    "\n",
    "list?"
   ]
  },
  {
   "cell_type": "code",
   "execution_count": 3,
   "metadata": {},
   "outputs": [
    {
     "data": {
      "text/plain": [
       "['append',\n",
       " 'clear',\n",
       " 'copy',\n",
       " 'count',\n",
       " 'extend',\n",
       " 'index',\n",
       " 'insert',\n",
       " 'pop',\n",
       " 'remove',\n",
       " 'reverse',\n",
       " 'sort']"
      ]
     },
     "execution_count": 3,
     "metadata": {},
     "output_type": "execute_result"
    }
   ],
   "source": [
    "# A list of the non system attributes of a function or object\n",
    "#    I use this to get some idea of what functions or actions are typically applied\n",
    "#    to a Python object. \n",
    "\n",
    "#    It is useful to drop the special actions with the leading or trailing '__' as\n",
    "#    they are not usually ones we care about, which is why I use this expression, but \n",
    "#    usually just a dir() would work fine.\n",
    "\n",
    "[x for x in dir(list) if not '__' in x]"
   ]
  },
  {
   "cell_type": "markdown",
   "metadata": {},
   "source": [
    "## Learning Objectives / Outcomes for the Course\n",
    "\n",
    "As a result of this course, students will expand their skill set to work and think with data. They will \n",
    "1. be able to do computations of expected value and variation of discrete and continuous random variables;\n",
    "2. Simmulate a sampling of a discrete and continuous random variable;\n",
    "3. Be able to evaluate assumptions used in a statistical model and critique conclusions;\n",
    "4. Develop point and interval estimatics of a random variable;\n",
    "5. Conduct hypothesis tests to make conclusions about a population from a sample;\n",
    "6. Explain and analyze ethical considerations for various real statistical problems.\n",
    "\n"
   ]
  },
  {
   "cell_type": "markdown",
   "metadata": {},
   "source": [
    "## Course Outline\n",
    "\n",
    "As I said: Python is quickly replacing spreadsheets in my daily work. Example: I am using it to make the schedule for our class."
   ]
  },
  {
   "cell_type": "code",
   "execution_count": 1,
   "metadata": {},
   "outputs": [
    {
     "ename": "ModuleNotFoundError",
     "evalue": "No module named 'MATH_351_Schedule'",
     "output_type": "error",
     "traceback": [
      "\u001b[0;31m---------------------------------------------------------------------------\u001b[0m",
      "\u001b[0;31mModuleNotFoundError\u001b[0m                       Traceback (most recent call last)",
      "\u001b[0;32m<ipython-input-1-a41564621705>\u001b[0m in \u001b[0;36m<module>\u001b[0;34m\u001b[0m\n\u001b[0;32m----> 1\u001b[0;31m \u001b[0;32mimport\u001b[0m \u001b[0mMATH_351_Schedule\u001b[0m\u001b[0;34m\u001b[0m\u001b[0;34m\u001b[0m\u001b[0m\n\u001b[0m\u001b[1;32m      2\u001b[0m \u001b[0mMATH_351_Schedule\u001b[0m\u001b[0;34m.\u001b[0m\u001b[0mschedule\u001b[0m\u001b[0;34m\u001b[0m\u001b[0;34m\u001b[0m\u001b[0m\n",
      "\u001b[0;31mModuleNotFoundError\u001b[0m: No module named 'MATH_351_Schedule'"
     ]
    }
   ],
   "source": [
    "import MATH_351_Schedule\n",
    "MATH_351_Schedule.schedule"
   ]
  },
  {
   "cell_type": "markdown",
   "metadata": {},
   "source": [
    "## Connections with Industrial Mathematics\n",
    "\n",
    "This course is directly connected with the growing mathematics field of Data Science. There are many opportunities for people with an expertise in this field. However the field is very accessible so you have competition.\n",
    "\n",
    "Some thoughts on how to rise to the top:\n",
    "1. Have some projects you have done that you can talk about (we will do this),\n",
    "2. Be able to talk about working with a team i.e. how do you help your team be effective, how did you get your team over a challenge, how do you lead?,\n",
    "3. Be able to talk about challenges in the field (we will do this),\n",
    "4. Have a breadth of experience in science or business generally, and mathematics, statistics, and computer science specifically (we will do this), and\n",
    "5. The more you have done the better - I suggest devoting some of your play time to working with data (we will explore Kaggle in this class, and my suggestion is that it become one of your hobbies).\n",
    "\n",
    "I have some literature on building a career in Data Science available if you like.\n",
    "\n",
    "Look for the STAT 411 course next Fall that is our Fundamentals of Data Science.\n"
   ]
  },
  {
   "cell_type": "markdown",
   "metadata": {},
   "source": [
    "## Assessments\n",
    "\n",
    "As with any mathematics class, doing the work is essentially to processing and learning the material. Furthermore the concepts covered in this class are not meant to be purely abstract things, but instead are actuall tools deployable in any human endeavor, even your hobies. You must do the activities in order to make progress. \n",
    "\n",
    "[https://www.youtube.com/watch?v=91G5SdW9tiQ](https://www.youtube.com/watch?v=91G5SdW9tiQ)\n",
    "\n",
    "### Homework\n",
    "\n",
    "There will be some homework assignments asking you to explore topics from class, and expand on some of the work we do. These are intended to be done with a partner or two - I do not suggest more than four people working together. If you have done them you will be able to actively participate in our next class. If you have not done them, you will find our next class overwhelming. There will roughly be one or two homework assignments per week, and I would budget 3 - 4 hours per week for them.\n",
    "\n",
    "They are intended to be done with others, however I understand you are busy, and ultimately if you need to do the homework alone, that will be fine. \n",
    "\n",
    "Also note that you do not necessarily need to have a perfect solution - for one thing there rarely is a perfect solution for this class, but rather you have spent some time thinking about how to get started.\n",
    "\n",
    "### Checking your understanding\n",
    "\n",
    "We will do a number of activicites during class, many as teams, to help you check on your understanding and progress.\n",
    "\n",
    "### Class Presentations and Flipgrid\n",
    "\n",
    "You will give presentations to the class about the work we are doing.\n",
    "\n",
    "We will use Flipgrid almost every class to share ideas and strategies on problems with each other.\n",
    "\n",
    "### Projects and Final Project\n",
    "\n",
    "There will be two midsemester projects that you will work on to demonstrate that you are processing the information from class and incorporating it into your mathematical and statistical practice. These will be largely self selected, and so I expect each of you to have your own problems and submissions. You are permitted to seek help or advice, but you will have to submit something that you can explain.\n",
    "\n",
    "### Project Videos\n",
    "\n",
    "Each project will have an accompanying video where you explain your methods, results, and any issues that you have found.\n",
    "\n",
    "### Grading Policies\n",
    "\n",
    "Your grade in the class will be based on homework, team activities, the team project, and class presentations.\n",
    "\n",
    "### Grading and Feedback\n",
    "\n",
    "I will be providing you feedback on the Homework, Class Activities and Presentations, the Projects and Project Videos. I am interested in seeing you make progreess as class continues. As such, you can revise and resubmit any assignment up until the announced deadline at the end of class.\n",
    "\n",
    "Your final grade in class will be assessed primarily from the Projects and whether I see evidence that you have met the objectives for the class. Specifically: A grade of A will mean that you have met all six course objectives, and exceeded the standard on at least 4 of them; a grade of B will mean that you have met all six course objectives, and exceed the standard on at least 2 of them; a grade of C will mean that you have met all six course objects. Finally a grade of D will mean that at least one of the standards was not met, and a grade of F will mean that multiple standards were not met or that too many assignments were missing to allow me to assess a standard.\n"
   ]
  },
  {
   "cell_type": "markdown",
   "metadata": {},
   "source": [
    "## UNCO Policy Statements"
   ]
  },
  {
   "cell_type": "markdown",
   "metadata": {},
   "source": [
    "### Disability Resources\n",
    "\n",
    "It is the policy and practice of the University of Northern Colorado to create inclusive learning environments. If there are aspects of the instruction or design of this course that present barriers to your inclusion or to an accurate assessment of your achievement such as time-limited exams, inaccessible web content, or use of videos without caption, please communicate this with your professor and contact Disability Support Services (DSS) at (970) 351-2289, Michener Library L-80 to request accommodations. Students can learn more about the accommodation process at  [https://www.unco.edu/disability-resource-center/accommodations/](https://www.unco.edu/disability-resource-center/accommodations/)"
   ]
  },
  {
   "cell_type": "markdown",
   "metadata": {},
   "source": [
    "### Food Insecurity and Basic Needs\n",
    "\n",
    "Research shows that college students experience food insecurity at higher rates than the American household rate, and that food insecurity can negatively impact academic performance and persistence. In recognition of this problem, UNC offers assistance to students facing food insecurity through an on- campus food pantry. The Bear Pantry is located in University Center 2166A, and is open for regular hours throughout the semester.  \n",
    "\n",
    "Please visit [www.unco.edu/bear-pantry](www.unco.edu/bear-pantry) for more information.\n",
    "\n",
    "Any student who faces challenges securing their food or housing and believes this may affect their performance in the course is also urged to contact Student Outreach and Support (SOS) for assistance.  SOS can assist students during difficult circumstances which may include medical, mental health, personal or family crisis, illness or injury. SOS can be reached at sos@unco.edu or via phone at 970-351-2796."
   ]
  },
  {
   "cell_type": "markdown",
   "metadata": {},
   "source": [
    "### Honor Code\n",
    "\n",
    "All members of the University of Northern Colorado community are entrusted with the responsibility to uphold and promote five fundamental values: Honesty, Trust, Respect, Fairness, and Responsibility. These core elements foster an atmosphere, inside and outside of the classroom, which serves as a foundation and guides the UNC community's academic, professional, and personal growth. Endorsement of these core elements by students, faculty, staff, administration, and trustees strengthens the integrity and value of our academic climate.\n"
   ]
  },
  {
   "cell_type": "markdown",
   "metadata": {},
   "source": [
    "### UNC's Policies\n",
    "\n",
    "UNC's policies and recommendations for academic misconduct will be followed. For additional information, please see the Student Code of Conduct at the Dean of Student’s website [http://www.unco.edu/dos/Conduct/codeofconduct.html](http://www.unco.edu/dos/Conduct/codeofconduct.html). In the case of academic appeals, university procedures will be followed. For information on academic appeals, see [https://www.unco.edu/trustees/pdf/board-policy-manual.pdf](https://www.unco.edu/trustees/pdf/board-policy-manual.pdf)."
   ]
  },
  {
   "cell_type": "code",
   "execution_count": null,
   "metadata": {},
   "outputs": [],
   "source": []
  }
 ],
 "metadata": {
  "kernelspec": {
   "display_name": "Python 3",
   "language": "python",
   "name": "python3"
  },
  "language_info": {
   "codemirror_mode": {
    "name": "ipython",
    "version": 3
   },
   "file_extension": ".py",
   "mimetype": "text/x-python",
   "name": "python",
   "nbconvert_exporter": "python",
   "pygments_lexer": "ipython3",
   "version": "3.7.4"
  }
 },
 "nbformat": 4,
 "nbformat_minor": 4
}
