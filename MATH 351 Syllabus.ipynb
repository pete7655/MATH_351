{
 "cells": [
  {
   "cell_type": "markdown",
   "metadata": {},
   "source": [
    "# MATH 351 - Elementary Statistical Theory - Spring 2021"
   ]
  },
  {
   "cell_type": "markdown",
   "metadata": {},
   "source": [
    "## Class and Instructor Details\n",
    "\n",
    "MATH 351-003 - Elementary Statistical Theory (3 credits)\n",
    "\n",
    "### Instructor\n",
    "\n",
    "Virgil U Pierce <br/>\n",
    "Email: virgil.pierce@unco.edu <br/>\n",
    "Cell: 956-249-0566\n",
    "\n",
    "Office: Ross Hall 2239\n",
    "\n",
    "### Class Meetings\n",
    "\n",
    "Tuesday: 9:30 to 10:45 in person except for first two weeks<br/>\n",
    "Thursday: 9:30 to 10:45 online\n",
    "Ross Hall 2261\n",
    "\n",
    "### COVID-19 Adjustments\n",
    "\n",
    "We will start the first two weeks of Spring 2021 with online classes on both Tuesdays and Thursdays and then transition to in person classes on Tuesdays and online classes on Thursdays. <br/>\n",
    "\n",
    "However, the situation is fluid and additional adjustments may be needed. Please watch Canvas/Email for updates.\n",
    "\n",
    "### Student Hours\n",
    "\n",
    "Online and To be Determined.\n",
    "\n",
    "Appointments can be made via:  [https://virgilpierce.youcanbook.me](https://virgilpierce.youcanbook.me)"
   ]
  },
  {
   "cell_type": "markdown",
   "metadata": {},
   "source": [
    "## Course Description\n",
    "\n",
    "From the catalogue: A continuation of MATH 350. Learn about jointly distributed random variables, central limit theorem, sampling distributions, properties of estimation, confidence intervals and tests of hypothesis.\n",
    "\n",
    "Topics will include:\n",
    "\n",
    "- Sampling distributions and other methods of experimentation;\n",
    "- Random variables and jointly distributed random variables;\n",
    "- Population samples and the central limit theorem;\n",
    "- Point and Interval Estimations\n",
    "- Hypothesis Tests\n",
    "- Bayesian Methods\n",
    "\n",
    "### Programing\n",
    "\n",
    "Statistics is a subject that is best treated as a science and in particular extensive experimentation with the problems being considered is essential to understanding the results. As a result we will be using Python (specifically Numpy, Sympy, and Scipy) to run experiments and do computations of results. You will be provided with example code that can be modified for the problems we do in class, and really this is meant partly to build upon your experience from the Introductory Programming class. That said, CS 120 is not a prequisite for the course and so we will have a gentle introduction to using Python and extensive help built into the class.\n",
    "\n",
    "The good news is that you will not be asked to do Calculus computations by hand but instead will be able to use Sympy or Scipy algorithms for any integration results we need. \n",
    "\n",
    "The course materials for class are being written in Jupyter/Python and are available in Github as .ipynb files.\n",
    "\n",
    "You will need access to Python, here are some options:\n",
    "\n",
    "- To install it on your own computer or laptop I recommend downloading Anaconda: [https://www.anaconda.com/products/individual](https://www.anaconda.com/products/individual) which includes Jupyter and Python.\n",
    "- Google Colabs provides a Jupyter-like environment and Python (including the packages we will use), it also is integrated with Github. You will need a gmail account. [https://colab.research.google.com](https://colab.research.google.com)\n"
   ]
  },
  {
   "cell_type": "markdown",
   "metadata": {},
   "source": [
    "### Course Prerequisites\n",
    "\n",
    "MATH 350 and (possibly concurrent) MATH 233.\n",
    "\n",
    "While we will be using Python as part of class, CS 120 is not a prerequisite. We will have example programs to get started and will only use a small part of what Python offers as a programing language. This course in fact will serve as a nice introduction to Python programing.\n",
    " "
   ]
  },
  {
   "cell_type": "markdown",
   "metadata": {},
   "source": [
    "## Textbook and Software\n",
    "\n",
    "We will be following the textbook:  **Mathematical Statistics with Applications** by Wackerly, Mendenhall, and Scheaffer. While it is highly recommended, any problems or other work assigned will be provided separately and much of the course material can be found on the internet. \n",
    "\n",
    "### Jupyter Notebooks and Github\n",
    "\n",
    "The notes for class and the homework is written in Jupyter notebooks. [We will use github to distribute these here](https://github.com/virgilpierce/MATH_351). I have made it a public repository so it should be easy to find. You have two choices for using this link, you can download individual files from the repository, or you can set up your Github account and then download or clone the repository to your own computer to then open the files in Jupyter. You can use the \"Issues\" tab in the Github website to let me know about problems you have seen in the notes (typos or things that don't run).\n",
    "\n",
    "### Python References\n",
    "\n",
    "You may need a Python reference book, depending on whether you prefer a book or the web for referencing. Let me know if you would like me to recommend one.\n",
    "\n",
    "That said, while I like to have a book to refer to for programing, most of the time it does not have the detail I need, and I end up using in-line help or on-line help anyway. By the way, here are some examples of how you can get some inline help in Python:"
   ]
  },
  {
   "cell_type": "code",
   "execution_count": 2,
   "metadata": {},
   "outputs": [
    {
     "data": {
      "text/plain": [
       "\u001b[0;31mInit signature:\u001b[0m \u001b[0mlist\u001b[0m\u001b[0;34m(\u001b[0m\u001b[0miterable\u001b[0m\u001b[0;34m=\u001b[0m\u001b[0;34m(\u001b[0m\u001b[0;34m)\u001b[0m\u001b[0;34m,\u001b[0m \u001b[0;34m/\u001b[0m\u001b[0;34m)\u001b[0m\u001b[0;34m\u001b[0m\u001b[0;34m\u001b[0m\u001b[0m\n",
       "\u001b[0;31mDocstring:\u001b[0m     \n",
       "Built-in mutable sequence.\n",
       "\n",
       "If no argument is given, the constructor creates a new empty list.\n",
       "The argument must be an iterable if specified.\n",
       "\u001b[0;31mType:\u001b[0m           type\n"
      ]
     },
     "metadata": {},
     "output_type": "display_data"
    }
   ],
   "source": [
    "# Help page describing the function or object\n",
    "#   I use this to get some idea of the syntax for the function - that said, I usually \n",
    "#   end up looking on a website.\n",
    "\n",
    "list?"
   ]
  },
  {
   "cell_type": "code",
   "execution_count": 3,
   "metadata": {},
   "outputs": [
    {
     "data": {
      "text/plain": [
       "['append',\n",
       " 'clear',\n",
       " 'copy',\n",
       " 'count',\n",
       " 'extend',\n",
       " 'index',\n",
       " 'insert',\n",
       " 'pop',\n",
       " 'remove',\n",
       " 'reverse',\n",
       " 'sort']"
      ]
     },
     "execution_count": 3,
     "metadata": {},
     "output_type": "execute_result"
    }
   ],
   "source": [
    "# A list of the non system attributes of a function or object\n",
    "#    I use this to get some idea of what functions or actions are typically applied\n",
    "#    to a Python object. \n",
    "\n",
    "#    It is useful to drop the special actions with the leading or trailing '__' as\n",
    "#    they are not usually ones we care about, which is why I use this expression, but \n",
    "#    usually just a dir() would work fine.\n",
    "\n",
    "[x for x in dir(list) if not '__' in x]"
   ]
  },
  {
   "cell_type": "markdown",
   "metadata": {},
   "source": [
    "## Learning Objectives / Outcomes for the Course\n",
    "\n",
    "As a result of this course, students will expand their skill set to work and think with data. They will \n",
    "1. be able to do computations of expected value and variation of discrete and continuous random variables;\n",
    "2. Simmulate a sampling of a discrete and continuous random variable;\n",
    "3. Be able to evaluate assumptions used in a statistical model and critique conclusions;\n",
    "4. Develop point and interval estimatics of a random variable;\n",
    "5. Conduct hypothesis tests to make conclusions about a population from a sample;\n",
    "6. Explain and analyze ethical considerations for various real statistical problems.\n",
    "\n"
   ]
  },
  {
   "cell_type": "markdown",
   "metadata": {},
   "source": [
    "## Course Outline\n",
    "\n",
    "As I said: Python is quickly replacing spreadsheets in my daily work. Example: I am using it to make the schedule for our class."
   ]
  },
  {
   "cell_type": "code",
   "execution_count": 1,
   "metadata": {},
   "outputs": [
    {
     "ename": "ModuleNotFoundError",
     "evalue": "No module named 'MATH_351_Schedule'",
     "output_type": "error",
     "traceback": [
      "\u001b[0;31m---------------------------------------------------------------------------\u001b[0m",
      "\u001b[0;31mModuleNotFoundError\u001b[0m                       Traceback (most recent call last)",
      "\u001b[0;32m<ipython-input-1-a41564621705>\u001b[0m in \u001b[0;36m<module>\u001b[0;34m\u001b[0m\n\u001b[0;32m----> 1\u001b[0;31m \u001b[0;32mimport\u001b[0m \u001b[0mMATH_351_Schedule\u001b[0m\u001b[0;34m\u001b[0m\u001b[0;34m\u001b[0m\u001b[0m\n\u001b[0m\u001b[1;32m      2\u001b[0m \u001b[0mMATH_351_Schedule\u001b[0m\u001b[0;34m.\u001b[0m\u001b[0mschedule\u001b[0m\u001b[0;34m\u001b[0m\u001b[0;34m\u001b[0m\u001b[0m\n",
      "\u001b[0;31mModuleNotFoundError\u001b[0m: No module named 'MATH_351_Schedule'"
     ]
    }
   ],
   "source": [
    "import MATH_351_Schedule\n",
    "MATH_351_Schedule.schedule"
   ]
  },
  {
   "cell_type": "markdown",
   "metadata": {},
   "source": [
    "## Connections with Industrial Mathematics\n",
    "\n",
    "This course is directly connected with the growing mathematics field of Data Science. There are many opportunities for people with an expertise in this field. However the field is very accessible so you have competition.\n",
    "\n",
    "Some thoughts on how to rise to the top:\n",
    "1. Have some projects you have done that you can talk about (we will do this),\n",
    "2. Be able to talk about working with a team i.e. how do you help your team be effective, how did you get your team over a challenge, how do you lead?,\n",
    "3. Be able to talk about challenges in the field (we will do this),\n",
    "4. Have a breadth of experience in science or business generally, and mathematics, statistics, and computer science specifically (we will do this), and\n",
    "5. The more you have done the better - I suggest devoting some of your play time to working with data (we will explore Kaggle in this class, and my suggestion is that it become one of your hobbies).\n",
    "\n",
    "I have some literature on building a career in Data Science available if you like.\n",
    "\n",
    "Look for the STAT 411 course next Fall that is our Fundamentals of Data Science.\n"
   ]
  },
  {
   "cell_type": "markdown",
   "metadata": {},
   "source": [
    "## Assessments\n",
    "\n",
    "Data Science is extremely accessible. You can do the work in this class with very little background preparation. However if you are not doing the work in this class, none of what we learn will stick with you. There are also many possible things that can happen in a data science analysis and seeing all of them requires that everyone in the class is working with us.\n",
    "\n",
    "### Homework\n",
    "\n",
    "There will be some homework assignments asking you to explore topics from class, and expand on some of the work we do. These are intended to be done with a partner or two - I do not suggest more than four people working together. If you have done them you will be able to actively participate in our next class. If you have not done them, you will find our next class overwhelming. There will roughly be one or two homework assignments per week, and I would budget 3 - 4 hours per week for them.\n",
    "\n",
    "They are intended to be done with others, however I understand you are busy, and ultimately if you need to do the homework alone, that will be fine. \n",
    "\n",
    "Also note that you do not necessarily need to have a perfect solution - for one thing there rarely is a perfect solution for this class, but rather you have spent some time thinking about how to get started.\n",
    "\n",
    "### Team Activity\n",
    "\n",
    "Much of our class time will be spent working on big and small activities with your team. Teamwork is part of Data Science, and it is also a really great way to learn. The small activities I am calling *Team Activities*. They are designed to be completed during class, and then your team will just clean them up a little before submitting them online to me after class. While they are team activities, you are ultimately responsible for what your team submits. There will be one a week. I would budget 3 hours per week for them.\n",
    "\n",
    "### Team Project\n",
    "\n",
    "The major component of the class will be a data science project from your team. This will be a semester long activity with various written reports and presentations from your team. Your team will select the data and question you wish to address. Your first assignment as part of the project will be to write a short 1 - 3 page proposal of what dataset and question you wish to look at. Keep in mind that this is going to be a semester long activity. This proposal will be due after we have been introduced to various types of data and data science questions.\n",
    "\n",
    "I hesitate to tell you how much time to budget. If all goes as planned, the Team Project will take over your life in November and December *J.K. start practicing a good work-life balance now - plan some time each week you are not doing school work. That said, also it is time to start practicing good work habits - doing things early is far more valuable than doing them at the last minute. I have never been happy with my work done while rushing. I show everyone the work I did months before it was due.*\n",
    "\n",
    "### Forming your Team\n",
    "\n",
    "We will do this as part of class, however note that a good team should have a set of complimentary expertise. It is helpful if one member of the team has experience with Python, one with Statistics, one with Mathematics (Linear Algebra), and then some interests in other fields from which the dataset might come. A team that is entirely programmers will be missing out on the needed breadth.\n",
    "\n",
    "### Packages and Writing Algorithms\n",
    "\n",
    "It is a common question with this class: Do we need to write code to implement this algorithm or method? The answers to this question depend:\n",
    "\n",
    "1. For the *Team Project* you may use any Python module - most of what we do will be in Scikitlearn.\n",
    "2. At some point during class your team will need to write a code implementing one of our methods. This will be one of the subassignments for the project.\n",
    "3. You will need to write some of your own error checking methods to evaluate methods as part of the project - particularly if the standard error estimate is not the best for your problem.\n",
    "4. The Team Activities will involve more specific algorithm implementation.\n",
    "\n",
    "The difficulty for you, as a Data Scientists is:  \n",
    "- All of the methods we will use are basically already coded as part of scikitlearn, unless you want to build your own Ensemble or other more involved model,\n",
    "- However, if you do not understand what a method is doing you will not be aware of some of the ways it can fail or lead you to false conclusions.\n",
    "\n",
    "This last point can be mitigated by understanding the Data Science *Process* and following the procedures to get accurate estimates on the error of your model. I.e. it is not necessary to always understand exactly what a model is doing (for example, we generally do not really know why Neural Networks work other than a heuristic for why they should work) - however if we have been true to the error estimating process we should be able to quantify how well the model did.\n",
    "\n",
    "That said. Sometimes we will be wrong. The more critical a model is to our company, the more important it is that we control the process and account for possible errors. I.e. \n",
    "\n",
    "- When I'm goofing off on Kaggle learning new methods, I sequester just one subset of the data,\n",
    "- If we were developing a model the city would use to determine which water lines need maintenance we would need to be sure we understand the chance of false negatives from our model and have multiple levels of sequestered data, and\n",
    "- If we were developing a model the state would use to decide which inmates up for parole were likely to reoffend we would absolutely want to know the errors our model had, isolated multiple levels of data in the building process would be essential.\n",
    "\n",
    "### Class Presentations\n",
    "\n",
    "You will give presentations to the class about the work we are doing. Either the team activities, your team project, or the homework.\n",
    "\n",
    "### Grading Policies\n",
    "\n",
    "Your grade in the class will be based on homework, team activities, the team project, and class presentations.\n",
    "\n",
    "The weighted distribution of assessments towards your final grade will be:\n",
    "\n",
    "- Homework: 10%\n",
    "- Team Activities: 10%\n",
    "- Team Project: 70%\n",
    "- Class Presentations: 10%\n",
    "\n",
    "The Team Project will be assessed throughout the semester and will include the many small assignments that will eventually add up to the whole project.\n",
    "\n",
    "Final Grades will be based on a percentage of this weighted total. The distribution will be no tougher than A 90 - 100%, B 80 - 89%, C 70 - 79%, D 60 - 69%, and F 1 - 59%.\n",
    "\n",
    "### Grading and Feedback\n",
    "\n",
    "I will be providing you feedback on the Homework, Team Activities, Class Presentations, and during the semester the Team Project's sub-assignments. \n",
    "\n",
    "At the end of the semester the Team Projects will be assessed by me, and by the class. The final grade on them will be computed by a weighted combination of all scores. \n"
   ]
  },
  {
   "cell_type": "markdown",
   "metadata": {},
   "source": [
    "## UNCO Policy Statements"
   ]
  },
  {
   "cell_type": "markdown",
   "metadata": {},
   "source": [
    "### Disability Resources\n",
    "\n",
    "It is the policy and practice of the University of Northern Colorado to create inclusive learning environments.  If there are aspects of the instruction or design of this course that present barriers to your inclusion or to an accurate assessment of your achievement (e.g. time-limited exams, inaccessible web content, use of videos without captions), please communicate this with your professor and contact Disability Resource Center (DRC) to request accommodations.\n",
    "Office: (970) 351-2289, Michener Library L-80. \n",
    "Students can learn more here: [www.unco.edu/disability-resource-center](www.unco.edu/disability-resource-center)"
   ]
  },
  {
   "cell_type": "markdown",
   "metadata": {},
   "source": [
    "### Food Insecurity and Basic Needs\n",
    "\n",
    "Research shows that college students experience food insecurity at higher rates than the American household rate, and that food insecurity can negatively impact academic performance and persistence. In recognition of this problem, UNC offers assistance to students facing food insecurity through an on- campus food pantry. The Bear Pantry is located in University Center 2166A, and is open for regular hours throughout the semester.  \n",
    "\n",
    "Please visit [www.unco.edu/bear-pantry](www.unco.edu/bear-pantry) for more information.\n",
    "\n",
    "Any student who faces challenges securing their food or housing and believes this may affect their performance in the course is also urged to contact Student Outreach and Support (SOS) for assistance.  SOS can assist students during difficult circumstances which may include medical, mental health, personal or family crisis, illness or injury. SOS can be reached at sos@unco.edu or via phone at 970-351-2796."
   ]
  },
  {
   "cell_type": "markdown",
   "metadata": {},
   "source": [
    "### Academic Integrity\n",
    "\n",
    "You are expected to practice academic honesty in every aspect of this course.  Students who engage in academic misconduct are subject to grading consequences with regard to this course and/or university disciplinary procedures through the Office of Community Standards and Conflict Resolution.\n"
   ]
  },
  {
   "cell_type": "markdown",
   "metadata": {},
   "source": [
    "### Title IX\n",
    "\n",
    "The University of Northern Colorado is committed to providing a safe learning environment for all students that is free of all forms of discrimination and sexual harassment, including sexual assault, domestic violence, dating violence, and stalking.  If you (or someone you know) has experienced or experiences any of these incidents, know that you are not alone.  UNC has staff members trained to support you in navigating campus life, accessing health and counseling services, providing academic and housing accommodations, helping with legal protective orders, and more.\n",
    "\n",
    "Please be aware all UNC faculty and  most staff members are “responsible employees,” which means that if you tell a faculty member about a situation involving sexual harassment, sexual assault, dating violence, domestic violence, or stalking, they must share that information with the Title IX Coordinator, Larry Loften.  Larry or a trained staff member in the Office of Institutional Equity and Compliance (OIEC) will contact you to let you know about accommodations and support services at UNC as well as your options for pursuing a process to hold accountable the person who harmed you. You are not required to speak with OIEC staff regarding the incident; your participation in OIEC processes are entirely voluntary.\n",
    "\n",
    "If you do not want the Title IX Coordinator notified, instead of disclosing this information to your instructor, you can speak confidentially with the following people on campus and in the community. They can connect you with support services and help explore your options now, or in the future.\n",
    "\n",
    "UNC’s Assault Survivors Advocacy Program (ASAP): 24 Hr. Hotline 970-35-4040 or   [www.unco.edu/asap](www.unco.edu/asap)\n",
    "UNC Counseling Center: 970-351-2496 or [www.unco.edu/counseling](www.unco.edu/counseling)\n",
    "UNC Psychological Services:  970-351-1645 or [www.unco.edu/cebs/psych_clinic](www.unco.edu/cebs/psych_clinic)\n",
    "If you are a survivor or someone concerned about a survivor, or if you would like to learn more about sexual misconduct or report an incident, please visit [www.unco.edu/sexual-misconduct](www.unco.edu/sexual-misconduct) or contact the Office of Institutional Equity and Compliance (970-351-4899).  OIEC is located on the third floor of the University Center in room 3060."
   ]
  },
  {
   "cell_type": "markdown",
   "metadata": {},
   "source": [
    "### Equity and Inclusion Statement\n",
    "\n",
    "The University of Northern Colorado embraces the diversity of students, faculty, and staff, honors the inherent dignity of each individual, and welcomes their unique perspectives, behaviors, and world views. In this course, people of all races, religions, national origins, sexual orientations, ethnicities, genders and gender identities, cognitive, physical, and behavioral abilities, socioeconomic backgrounds, regions, immigrant statuses, military or veteran statuses, size and/or shapes are strongly encouraged to share their rich array of perspectives and experiences.  Course content and campus discussions will heighten your awareness to each other’s individual and intersecting identities. If you would like to report an incident or learn more about identity-based discrimination/harassment, \n",
    "\n",
    "please visit [www.unco.edu/institutional-equity-compliance](www.unco.edu/institutional-equity-compliance)"
   ]
  }
 ],
 "metadata": {
  "kernelspec": {
   "display_name": "Python 3",
   "language": "python",
   "name": "python3"
  },
  "language_info": {
   "codemirror_mode": {
    "name": "ipython",
    "version": 3
   },
   "file_extension": ".py",
   "mimetype": "text/x-python",
   "name": "python",
   "nbconvert_exporter": "python",
   "pygments_lexer": "ipython3",
   "version": "3.7.4"
  }
 },
 "nbformat": 4,
 "nbformat_minor": 4
}
