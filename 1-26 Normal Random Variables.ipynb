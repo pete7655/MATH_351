{
 "cells": [
  {
   "cell_type": "code",
   "execution_count": 3,
   "metadata": {},
   "outputs": [],
   "source": [
    "import numpy as np\n",
    "import matplotlib.pyplot as plt\n",
    "from numpy import exp"
   ]
  },
  {
   "cell_type": "markdown",
   "metadata": {},
   "source": [
    "# The Normal Probability Distribution\n",
    "\n",
    "Later in the semester we will give a result that at least partially explains why the Normal Probability Distribution is as important as it is. It seems to show up in examples all the time. Today we will give some examples of problems that typically have a normal distribution.\n",
    "\n",
    "## Definition: Normal Probability Distribution\n",
    "\n",
    "A random variable Y is said to have a normal probability distirbution if, for $\\sigma > 0$ and $-\\infty < \\mu < \\infty$, the density function of Y is:\n",
    "\n",
    "$$ f(y) = \\frac{1}{\\sigma \\sqrt{2\\pi}} e^{-(y-\\mu)^2/(2\\sigma^2) } $$\n",
    "\n",
    "Notice the two parameters $\\mu$ and $\\sigma$, whose names have been suggestively choosen. Indeed we have:\n",
    "\n",
    "$$ \\mu = E(Y) $$\n",
    "\n",
    "and \n",
    "\n",
    "$$ \\sigma^2 = V(Y) = E( (Y-\\mu)^2 ) $$\n",
    "\n",
    "Hence: $\\mu$ controls the center of the distribution and $\\sigma$ adjusts the spread. "
   ]
  },
  {
   "cell_type": "code",
   "execution_count": 4,
   "metadata": {},
   "outputs": [],
   "source": [
    "def plot_normal_pdf(mu, sigma, ymin=-10, ymax=10, n=1000):\n",
    "\n",
    "    h = (ymax - ymin)/n\n",
    "    yy = np.arange(ymin, ymax, h)\n",
    "    \n",
    "    f = 1/(sigma*np.sqrt(2*np.pi)) * exp( -(yy-mu)**2/(2*sigma**2))\n",
    "    \n",
    "    plt.figure(figsize=(12, 7))\n",
    "    plt.plot(yy, f, 'b-');\n",
    "    \n",
    "    return 1"
   ]
  },
  {
   "cell_type": "code",
   "execution_count": 5,
   "metadata": {},
   "outputs": [
    {
     "data": {
      "text/plain": [
       "1"
      ]
     },
     "execution_count": 5,
     "metadata": {},
     "output_type": "execute_result"
    },
    {
     "data": {
      "image/png": "[encoded data removed]",
      "text/plain": [
       "<Figure size 864x504 with 1 Axes>"
      ]
     },
     "metadata": {
      "needs_background": "light"
     },
     "output_type": "display_data"
    }
   ],
   "source": [
    "plot_normal_pdf(0, 1)"
   ]
  },
  {
   "cell_type": "code",
   "execution_count": 6,
   "metadata": {},
   "outputs": [],
   "source": [
    "# We will use scipy.integrate to compute the necessary integrals.\n",
    "import scipy.integrate as integrate\n",
    "\n",
    "# Note if you are using both the numerical integration routine\n",
    "# from scipy, and the symbolic routine from sympy you will want to be \n",
    "# careful how you import them and either keep them in their parent \n",
    "# modules or use an alias."
   ]
  },
  {
   "cell_type": "code",
   "execution_count": 15,
   "metadata": {},
   "outputs": [],
   "source": [
    "def plot_normal_cdf(mu, sigma, ymin=-10, ymax=10, n=1000, lower_bound = -100):\n",
    "\n",
    "    h = (ymax - ymin)/n\n",
    "    yy = np.arange(ymin, ymax, h)\n",
    "    \n",
    "    # to use scipy.integrate we need to define our integrand as a Python\n",
    "    # function\n",
    "    def f(y):\n",
    "        return 1/(sigma*np.sqrt(2*np.pi)) * exp( -(y-mu)**2/(2*sigma**2))\n",
    "    \n",
    "    F = [ integrate.quad(f, lower_bound, y)[0] for y in yy ]\n",
    "    # More on how scipy.integrate.quad works below\n",
    "    \n",
    "    \n",
    "    plt.figure(figsize=(12, 7))\n",
    "    plt.plot(yy, F, 'b-');\n",
    "    \n",
    "    return 1"
   ]
  },
  {
   "cell_type": "code",
   "execution_count": 16,
   "metadata": {},
   "outputs": [
    {
     "data": {
      "text/plain": [
       "1"
      ]
     },
     "execution_count": 16,
     "metadata": {},
     "output_type": "execute_result"
    },
    {
     "data": {
      "image/png": "[encoded data removed]",
      "text/plain": [
       "<Figure size 864x504 with 1 Axes>"
      ]
     },
     "metadata": {
      "needs_background": "light"
     },
     "output_type": "display_data"
    }
   ],
   "source": [
    "plot_normal_cdf(0, 1)"
   ]
  },
  {
   "cell_type": "code",
   "execution_count": null,
   "metadata": {},
   "outputs": [],
   "source": []
  },
  {
   "cell_type": "markdown",
   "metadata": {},
   "source": [
    "## Computing Probabilities for Normal Random Variables\n",
    "\n",
    "A historical problem for Normal Random Variables was computing the necessary integrals. Until recently people worked with tables of values or computerized look up tables for the integerals. However now we all have access to computers to find these values or at least their approximations.\n",
    "\n",
    "Note. There are techniques for computing integrals of $f(y)$ exactly at least when the end points are rational multiples of $\\sigma$ added to $\\mu$, however they rely on Fourier Transforms and are beyond the scope of our class as well as being completely unnecessary for any real application.\n",
    "\n",
    "### Example\n",
    "Let Z be the normal random variable with mean 0 and standard deviation 1. (Note that we will use Z for this *standard normal random variable* from now on).\n",
    "\n",
    "1. Find $P(Z \\geq 2)$\n",
    "\n",
    "2. Find $P(-2 \\leq Z \\leq 2 ) $\n",
    "\n",
    "3. Find $P(0 \\leq Z \\leq 1.73) $"
   ]
  },
  {
   "cell_type": "code",
   "execution_count": 43,
   "metadata": {},
   "outputs": [],
   "source": [
    "# We will use scipy.integrate to compute the necessary integrals.\n",
    "import scipy.integrate as integrate\n",
    "\n",
    "# Note if you are using both the numerical integration routine\n",
    "# from scipy, and the symbolic routine from sympy you will want to be \n",
    "# careful how you import them and either keep them in their parent \n",
    "# modules or use an alias."
   ]
  },
  {
   "cell_type": "code",
   "execution_count": 41,
   "metadata": {},
   "outputs": [],
   "source": [
    "# to use scipy.integrate we need to define our integrand as a Python\n",
    "# function\n",
    "def f(y):\n",
    "    return 1/np.sqrt(2*np.pi) * exp(-y**2 / 2)\n"
   ]
  },
  {
   "cell_type": "code",
   "execution_count": 52,
   "metadata": {},
   "outputs": [
    {
     "data": {
      "text/plain": [
       "(0.022750131948179216, 9.624503215680349e-14)"
      ]
     },
     "execution_count": 52,
     "metadata": {},
     "output_type": "execute_result"
    }
   ],
   "source": [
    "# Integrate comes with a number of numerical integration routines.\n",
    "# We will use the basic integrate.quad for quadrature.\n",
    "\n",
    "# The second problem is that we want to compute the integral from 2 to \n",
    "# infinity, but we can't do that. What we will need to do \n",
    "# is compute the integral for increasing values of the upper bound\n",
    "# and see if we can conclude the answer is converging.\n",
    "\n",
    "integrate.quad(f, 2, 10)\n",
    "# The first number in the output is the approximate integral, and the\n",
    "# second value is an estimate of the error. Adjust the upper bound \n",
    "# to check that we have gone out far enough."
   ]
  },
  {
   "cell_type": "markdown",
   "metadata": {},
   "source": [
    "## Example: Heights\n",
    "\n",
    "The mean heights of men in the US are 70 inches with a standard deviation of 3 inches, while the heights of adult women are distributed with a mean of 64.5 inches and a standard deviation of 2.5 inches.\n",
    "\n",
    "Find the probablity of a man having a height of more than 80 inches. \n",
    "\n",
    "Find the probablity of a women having a hiehgt of more than 80 inches."
   ]
  },
  {
   "cell_type": "markdown",
   "metadata": {},
   "source": [
    "We could compute the necessary integrals directly using the formulas from the beginning of class for the PDF. However another approach would be to convert the values in this problem to the *Standard Normal Random Variable* Z. "
   ]
  },
  {
   "cell_type": "markdown",
   "metadata": {},
   "source": [
    "## Example: Tails\n",
    "\n",
    "This is a result we will use again:  How far out in the tails do we need to go to guaruntee that\n",
    "\n",
    "$$ P( - \\alpha < Z < \\alpha ) > 0.95 $$\n",
    "\n",
    "For the standard normal random variable, $Z$. \n"
   ]
  },
  {
   "cell_type": "code",
   "execution_count": null,
   "metadata": {},
   "outputs": [],
   "source": []
  }
 ],
 "metadata": {
  "kernelspec": {
   "display_name": "Python 3",
   "language": "python",
   "name": "python3"
  },
  "language_info": {
   "codemirror_mode": {
    "name": "ipython",
    "version": 3
   },
   "file_extension": ".py",
   "mimetype": "text/x-python",
   "name": "python",
   "nbconvert_exporter": "python",
   "pygments_lexer": "ipython3",
   "version": "3.7.4"
  }
 },
 "nbformat": 4,
 "nbformat_minor": 4
}
