{
 "cells": [
  {
   "cell_type": "code",
   "execution_count": 1,
   "metadata": {},
   "outputs": [],
   "source": [
    "# We will need a factorial and binomial coefficient function for some of the computations today\n",
    "\n",
    "def factorial(n):\n",
    "    \n",
    "    if n < 1:\n",
    "        return 1\n",
    "    else:\n",
    "        return n*factorial(n-1)\n",
    "    \n",
    "def binom(m, n):\n",
    "    \n",
    "    return factorial(m)/( factorial(m-n)*factorial(n))"
   ]
  },
  {
   "cell_type": "markdown",
   "metadata": {},
   "source": [
    "# Discrete Random Variables\n",
    "\n",
    "We start with discrete random variables. First some definitions:\n",
    "\n",
    "1. What is our definition of a *discrete random variable*?\n",
    "\n",
    "2. Can a discrete random variable take on infinitely many values? Is there anything that makes us nervous?\n",
    "\n",
    "3. Give four examples of a **real** (as in real world not real number) discrete random variable:\n",
    "\n",
    "a. One of which we know the probability distribution of. <br/>\n",
    "b. One of which takes on infinitely many values. <br/>\n",
    "c. One of which is uniform?  (what do we mean by uniform?) <br/>\n",
    "d. One of which your team finds interesting. <br/>\n",
    "\n",
    "4. What is our definition of the *Probability Distribution* of a discrete random variable?\n"
   ]
  },
  {
   "cell_type": "markdown",
   "metadata": {},
   "source": [
    "5. Consider the following discrete random variable:  we roll a fair six-sided die, Y is the number facing up. What is the expected value of Y?"
   ]
  },
  {
   "cell_type": "markdown",
   "metadata": {},
   "source": [
    "6. Suppose we take the number facing up, Y, and we square it. What is the expected value of $Y^2$?"
   ]
  },
  {
   "cell_type": "markdown",
   "metadata": {},
   "source": [
    "7. A company in Greeley makes plastic face shields. 1.2% of the time the face shield has a serious flaw and needs to be discarded. Suppose we select 200 face shields at random and let Y be the number with a serious flaw.  What is the expected value of Y?"
   ]
  },
  {
   "cell_type": "code",
   "execution_count": 2,
   "metadata": {},
   "outputs": [
    {
     "data": {
      "text/plain": [
       "2.3999999999999946"
      ]
     },
     "execution_count": 2,
     "metadata": {},
     "output_type": "execute_result"
    }
   ],
   "source": [
    "# I'll do this one here as it illustrates some tricks with Python we will need\n",
    "\n",
    "P = {}\n",
    "# It is convenient to build the PDF as a Dictionary so that P[y] is the probability P(Y=y)\n",
    "\n",
    "for y in range(200+1):\n",
    "    P[y] = binom(200, y)*0.012**y * (1-0.012)**(200-y) \n",
    "# This is an example of a binomial probability distrubtion where the probability of a single successful trial is p.\n",
    "    \n",
    "    \n",
    "sum([ y*P[y] for y in P])\n",
    "# expected value is then computed by suming over all the values, which Python makes easy using a list generator"
   ]
  },
  {
   "cell_type": "code",
   "execution_count": 4,
   "metadata": {},
   "outputs": [
    {
     "data": {
      "text/plain": [
       "2.4"
      ]
     },
     "execution_count": 4,
     "metadata": {},
     "output_type": "execute_result"
    }
   ],
   "source": [
    "# not surprisingly this is:  \n",
    "0.012 * 200"
   ]
  },
  {
   "cell_type": "markdown",
   "metadata": {},
   "source": [
    "8. The expected value gives us the 'center' of the random variable (or a function of it). In addition to knowing the center, we are also interested in how far the result tends to be spread from the center.\n",
    "\n",
    "Let $\\mu = E(Y)$, then we define the *variance* by $ V(Y) = \\sigma^2 = E[ (Y-\\mu)^2 ] $.  \n",
    "\n",
    "Note why this makes sense, it captures how far Y moves from its expected value.\n",
    "\n",
    "Why do we take the square?"
   ]
  },
  {
   "cell_type": "markdown",
   "metadata": {},
   "source": [
    "9. Find the variance of Y from the six sided die."
   ]
  },
  {
   "cell_type": "markdown",
   "metadata": {},
   "source": [
    "10. Find the variance of Y^2 from the six sided die."
   ]
  },
  {
   "cell_type": "markdown",
   "metadata": {},
   "source": [
    "11. Find the variance of Y from the face shields."
   ]
  },
  {
   "cell_type": "code",
   "execution_count": 12,
   "metadata": {},
   "outputs": [
    {
     "data": {
      "text/plain": [
       "0.23711999999999991"
      ]
     },
     "execution_count": 12,
     "metadata": {},
     "output_type": "execute_result"
    }
   ],
   "source": [
    "# I'll do this one here again to illustrate some tricks with Python\n",
    "\n",
    "mu = sum([ y*P[y] for y in P] )\n",
    "# let's go ahead and let Python take care of fixing the value of mu\n",
    "\n",
    "sum( [ (y-mu)**2 * P[y] for y in P] )\n",
    "# compute the expected value of (y-mu)^2 remember that **2 is ^2 in Python."
   ]
  },
  {
   "cell_type": "markdown",
   "metadata": {},
   "source": [
    "12. If Y has units, what are the units of $\\mu = E(Y)$ and $\\sigma^2 = V(Y)$?"
   ]
  },
  {
   "cell_type": "markdown",
   "metadata": {},
   "source": [
    "## An Experiement\n",
    "\n",
    "Are we sure about our computations above?  One of the great things about 2021 is that we can use Python (even on our phones using Google Colab) to check. Essentially, unlike a lot of mathematics classes, we can conduct an experiment in this class to see how close we are."
   ]
  },
  {
   "cell_type": "code",
   "execution_count": 16,
   "metadata": {},
   "outputs": [],
   "source": [
    "import numpy as np\n",
    "from numpy.random import randint\n",
    "import matplotlib.pyplot as plt"
   ]
  },
  {
   "cell_type": "code",
   "execution_count": 25,
   "metadata": {},
   "outputs": [
    {
     "data": {
      "image/png": "[encoded data removed]",
      "text/plain": [
       "<Figure size 432x288 with 1 Axes>"
      ]
     },
     "metadata": {
      "needs_background": "light"
     },
     "output_type": "display_data"
    }
   ],
   "source": [
    "# We use the numpy randint function which returns an array of size pulled from range(1, 7) (excluding 7).\n",
    "rolls = randint(1, 7, size=200)\n",
    "sample = [y**2 for y in rolls]\n",
    "\n",
    "# graph it with a historgram. We have to do the bins by hand because matplotlib.pyplot.hist is built\n",
    "# for working with more continuous than discrete data\n",
    "plt.hist(sample, bins=[0.5, 1.5, 3, 3.5, 4.5, 5, 8.5, 9.5, 10, 15.5, 16.5, 17, 24.5, 25.5, 26, 35.5, 36.5]);"
   ]
  },
  {
   "cell_type": "code",
   "execution_count": 28,
   "metadata": {},
   "outputs": [
    {
     "data": {
      "text/plain": [
       "(15.485, 147.81977500000002)"
      ]
     },
     "execution_count": 28,
     "metadata": {},
     "output_type": "execute_result"
    }
   ],
   "source": [
    "# Numpy has mean and variance functions\n",
    "np.mean(sample), np.var(sample)"
   ]
  },
  {
   "cell_type": "code",
   "execution_count": 30,
   "metadata": {},
   "outputs": [
    {
     "data": {
      "text/plain": [
       "(15.485, 147.81977499999974)"
      ]
     },
     "execution_count": 30,
     "metadata": {},
     "output_type": "execute_result"
    }
   ],
   "source": [
    "mu = sum(sample)/len(sample)\n",
    "mu, sum([ (s - mu)**2 for s in sample])/len(sample)"
   ]
  },
  {
   "cell_type": "markdown",
   "metadata": {},
   "source": [
    "How do these compare with your computed values for the population? Later in class we will come back to exactly what we are doing here (sampling a population and comparing the statistics of the sample to the statistics of the population)."
   ]
  },
  {
   "cell_type": "code",
   "execution_count": null,
   "metadata": {},
   "outputs": [],
   "source": []
  }
 ],
 "metadata": {
  "kernelspec": {
   "display_name": "Python 3",
   "language": "python",
   "name": "python3"
  },
  "language_info": {
   "codemirror_mode": {
    "name": "ipython",
    "version": 3
   },
   "file_extension": ".py",
   "mimetype": "text/x-python",
   "name": "python",
   "nbconvert_exporter": "python",
   "pygments_lexer": "ipython3",
   "version": "3.7.4"
  }
 },
 "nbformat": 4,
 "nbformat_minor": 4
}
