{
 "cells": [
  {
   "cell_type": "code",
   "execution_count": 1,
   "metadata": {},
   "outputs": [],
   "source": [
    "# We will need a factorial and binomial coefficient function for some of the computations today\n",
    "\n",
    "def factorial(n):\n",
    "    \n",
    "    if n < 1:\n",
    "        return 1\n",
    "    else:\n",
    "        return n*factorial(n-1)\n",
    "    \n",
    "def binom(m, n):\n",
    "    \n",
    "    return factorial(m)/( factorial(m-n)*factorial(n))"
   ]
  },
  {
   "cell_type": "markdown",
   "metadata": {},
   "source": [
    "# Discrete Random Variables\n",
    "\n",
    "We start with discrete random variables. First some definitions:\n",
    "\n",
    "1. What is our definition of a *discrete random variable*?\n",
    "\n",
    "Discrete Variables:  Takes on countable values; integers; infinitely many, but countably many. Values do not become arbitrarily close, there is a distance between them.\n",
    "\n",
    "Continuous Variables:  set of all reals? Infinitely many reals but they are arbitrarily close to each other. Rationals will be the same arbitrarily close to each other.  \n",
    "\n",
    "\n",
    "2. Can a discrete random variable take on infinitely many values? Is there anything that makes us nervous?\n",
    "\n",
    "Yes. For example let Y be a random integer with each integer equally likely.  \n",
    "\n",
    "Let P(y) be the probability that the discrete random variable y is selected. \n",
    "\n",
    "What do we need to get if we add up all of the P(y)s for every value y that the discrete random variable could take:  1. \n",
    "\n",
    "The concern with a discrete random variable that could take infinitely many values, is that the total probablity needs to add up to 1.\n",
    "\n",
    "\n",
    "3. Give four examples of a **real** (as in real world not real number) discrete random variable:\n",
    "\n",
    "a. One of which we know the probability distribution of. <br/>\n",
    "\n",
    "- Energy levels of a hydrogen atom, we know the likliehood of any given energy level. \n",
    "- Coin flips:  Let Y be H or T after flipping a fair coin. P(H) = 1/2; P(T) = 1 - P(H) = 1/2. \n",
    "\n",
    "b. One of which takes on infinitely many values. <br/>\n",
    "\n",
    "- How many minutes will it be till there is a car accident at the corner of 35st and US34.\n",
    "- The sum of the score of the super bowl.\n",
    "\n",
    "c. One of which is uniform?  (what do we mean by uniform?) <br/>\n",
    "\n",
    "*uniform distributions:* Each outcome is equally likely.\n",
    "\n",
    "- Rolling a (fair) six sided die and letting Y be the number on top.\n",
    "\n",
    "\n",
    "d. One of which your team finds interesting. <br/>\n",
    "\n",
    "4. What is our definition of the *Probability Distribution* of a discrete random variable?\n",
    "\n",
    "P(Y) = the probability that the value Y results from the experiment.\n"
   ]
  },
  {
   "cell_type": "markdown",
   "metadata": {},
   "source": [
    "5. Consider the following discrete random variable:  we roll a fair six-sided die, Y is the number facing up. What is the expected value of Y?\n",
    "\n",
    "Expected value is defined to be the weighted average or mean of a numerical random variable. \n",
    "\n"
   ]
  },
  {
   "cell_type": "code",
   "execution_count": 2,
   "metadata": {},
   "outputs": [
    {
     "data": {
      "text/plain": [
       "3.5"
      ]
     },
     "execution_count": 2,
     "metadata": {},
     "output_type": "execute_result"
    }
   ],
   "source": [
    "1*1/6 + 2*1/6 + 3*1/6 + 4*1/6 + 5*1/6 + 6*1/6"
   ]
  },
  {
   "cell_type": "code",
   "execution_count": 3,
   "metadata": {},
   "outputs": [
    {
     "data": {
      "text/plain": [
       "3.5"
      ]
     },
     "execution_count": 3,
     "metadata": {},
     "output_type": "execute_result"
    }
   ],
   "source": [
    "(1+2+3+4+5+6)/6"
   ]
  },
  {
   "cell_type": "markdown",
   "metadata": {},
   "source": [
    "$$ E(y) = \\sum y P(y) $$\n",
    "\n",
    "Provided that the sum converges."
   ]
  },
  {
   "cell_type": "markdown",
   "metadata": {},
   "source": [
    "6. Suppose we take the number facing up, Y, and we square it. What is the expected value of $Y^2$?"
   ]
  },
  {
   "cell_type": "code",
   "execution_count": 4,
   "metadata": {},
   "outputs": [
    {
     "data": {
      "text/plain": [
       "15.166666666666668"
      ]
     },
     "execution_count": 4,
     "metadata": {},
     "output_type": "execute_result"
    }
   ],
   "source": [
    "1**2 *1/6 + 2**2 *1/6 + 3**2 *1/6 + 4**2 * 1/6 + 5**2 * 1/6 + 6**2 * 1/6"
   ]
  },
  {
   "cell_type": "markdown",
   "metadata": {},
   "source": [
    "$$ E( f(y) ) = \\sum f(y) P(y) $$\n",
    "\n",
    "Provided that the sum converges."
   ]
  },
  {
   "cell_type": "markdown",
   "metadata": {},
   "source": [
    "7. A company in Greeley makes plastic face shields. 1.2% of the time the face shield has a serious flaw and needs to be discarded. Suppose we select 200 face shields at random and let Y be the number with a serious flaw.  What is the expected value of Y?"
   ]
  },
  {
   "cell_type": "markdown",
   "metadata": {},
   "source": [
    "P(Y) = The probability that out of 200 face shields, Y of them have a serious flaw\n",
    "\n",
    "Start with:  All 200 are fine\n",
    "$$ P(Y=0) = (1 - 0.012)^200$$\n",
    "\n",
    "Now how about 1 of them has a serious flaw:\n",
    "\n",
    "$$ P(Y=1) = \\begin{pmatrix} 200 \\\\ 1 \\end{pmatrix} 0.012^1 (1-0.012)^{199} $$\n",
    "\n",
    "more generally:\n",
    "\n",
    "$$ P(Y=y) = \\begin{pmatrix} 200 \\\\ y \\end{pmatrix} 0.012^y (1-0.012)^{200 - y} $$"
   ]
  },
  {
   "cell_type": "code",
   "execution_count": 5,
   "metadata": {},
   "outputs": [
    {
     "data": {
      "text/plain": [
       "(0.9999999999999978, 2.3999999999999946)"
      ]
     },
     "execution_count": 5,
     "metadata": {},
     "output_type": "execute_result"
    }
   ],
   "source": [
    "# I'll do this one here as it illustrates some tricks with Python we will need\n",
    "\n",
    "P = {}\n",
    "# It is convenient to build the PDF as a Dictionary so that P[y] is the probability P(Y=y)\n",
    "\n",
    "for y in range(200+1):\n",
    "    P[y] = binom(200, y)*0.012**y * (1-0.012)**(200-y) \n",
    "# This is an example of a binomial probability distrubtion where the probability of a single successful trial is p.\n",
    "    \n",
    "    \n",
    "sum([ P[y] for y in P]), sum([ y*P[y] for y in P])\n",
    "# expected value is then computed by suming over all the values, which Python makes easy using a list generator"
   ]
  },
  {
   "cell_type": "code",
   "execution_count": 4,
   "metadata": {},
   "outputs": [
    {
     "data": {
      "text/plain": [
       "2.4"
      ]
     },
     "execution_count": 4,
     "metadata": {},
     "output_type": "execute_result"
    }
   ],
   "source": [
    "# not surprisingly this is:  \n",
    "0.012 * 200"
   ]
  },
  {
   "cell_type": "markdown",
   "metadata": {},
   "source": [
    "In fact:  $$ E(y) = n p $$ for a binomial random variable."
   ]
  },
  {
   "cell_type": "markdown",
   "metadata": {},
   "source": [
    "8. The expected value gives us the 'center' of the random variable (or a function of it). In addition to knowing the center, we are also interested in how far the result tends to be spread from the center.\n",
    "\n",
    "Let $\\mu = E(Y)$, then we define the *variance* by $ V(Y) = \\sigma^2 = E[ (Y-\\mu)^2 ] $.  \n",
    "\n",
    "Note why this makes sense, it captures how far Y moves from its expected value.\n",
    "\n",
    "Why do we take the square?"
   ]
  },
  {
   "cell_type": "markdown",
   "metadata": {},
   "source": [
    "9. Find the variance of Y from the six sided die."
   ]
  },
  {
   "cell_type": "code",
   "execution_count": 6,
   "metadata": {},
   "outputs": [
    {
     "data": {
      "text/plain": [
       "2.916666666666667"
      ]
     },
     "execution_count": 6,
     "metadata": {},
     "output_type": "execute_result"
    }
   ],
   "source": [
    "mu = 3.5\n",
    "\n",
    "sum( [ (y-mu)**2*1/6 for y in range(1, 6+1) ]) "
   ]
  },
  {
   "cell_type": "markdown",
   "metadata": {},
   "source": [
    "10. Find the variance of Y^2 from the six sided die."
   ]
  },
  {
   "cell_type": "code",
   "execution_count": 7,
   "metadata": {},
   "outputs": [
    {
     "data": {
      "text/plain": [
       "(15.166666666666668, 149.13888888888889)"
      ]
     },
     "execution_count": 7,
     "metadata": {},
     "output_type": "execute_result"
    }
   ],
   "source": [
    "mu = sum( [ y**2 * 1/6 for y in range(1, 7) ])\n",
    "\n",
    "mu, sum( [ (y**2 - mu)**2 *1/6 for y in range(1, 7) ])"
   ]
  },
  {
   "cell_type": "markdown",
   "metadata": {},
   "source": [
    "11. Find the variance of Y from the face shields."
   ]
  },
  {
   "cell_type": "code",
   "execution_count": 9,
   "metadata": {},
   "outputs": [
    {
     "data": {
      "text/plain": [
       "(2.3999999999999946, 2.3711999999999955)"
      ]
     },
     "execution_count": 9,
     "metadata": {},
     "output_type": "execute_result"
    }
   ],
   "source": [
    "# I'll do this one here again to illustrate some tricks with Python\n",
    "\n",
    "mu = sum([ y*P[y] for y in P] )\n",
    "# let's go ahead and let Python take care of fixing the value of mu\n",
    "\n",
    "mu, sum( [ (y-mu)**2 * P[y] for y in P] )\n",
    "# compute the expected value of (y-mu)^2 remember that **2 is ^2 in Python."
   ]
  },
  {
   "cell_type": "markdown",
   "metadata": {},
   "source": [
    "12. If Y has units, what are the units of $\\mu = E(Y)$ and $\\sigma^2 = V(Y)$?\n",
    "\n",
    "Units of the Expected Value are the units of Y,\n",
    "\n",
    "Units of the Variance are $$ (\\mbox{the units of Y})^2$$"
   ]
  },
  {
   "cell_type": "code",
   "execution_count": 11,
   "metadata": {},
   "outputs": [
    {
     "data": {
      "text/plain": [
       "1.5398701243936126"
      ]
     },
     "execution_count": 11,
     "metadata": {},
     "output_type": "execute_result"
    }
   ],
   "source": [
    "import numpy as np\n",
    "np.sqrt(2.3712)"
   ]
  },
  {
   "cell_type": "markdown",
   "metadata": {},
   "source": [
    "$$\\sigma  = \\sqrt{V(Y)} $$ is the standard deviation of the random variable."
   ]
  },
  {
   "cell_type": "code",
   "execution_count": 12,
   "metadata": {},
   "outputs": [
    {
     "data": {
      "text/plain": [
       "(0.8599999999999999, 3.94)"
      ]
     },
     "execution_count": 12,
     "metadata": {},
     "output_type": "execute_result"
    }
   ],
   "source": [
    "2.4 - 1.54, 2.4 + 1.54"
   ]
  },
  {
   "cell_type": "markdown",
   "metadata": {},
   "source": [
    "## An Experiement\n",
    "\n",
    "Are we sure about our computations above?  One of the great things about 2021 is that we can use Python (even on our phones using Google Colab) to check. Essentially, unlike a lot of mathematics classes, we can conduct an experiment in this class to see how close we are."
   ]
  },
  {
   "cell_type": "code",
   "execution_count": 13,
   "metadata": {},
   "outputs": [],
   "source": [
    "import numpy as np\n",
    "from numpy.random import randint\n",
    "import matplotlib.pyplot as plt"
   ]
  },
  {
   "cell_type": "code",
   "execution_count": 31,
   "metadata": {},
   "outputs": [
    {
     "data": {
      "image/png": "[encoded data removed]",
      "text/plain": [
       "<Figure size 432x288 with 1 Axes>"
      ]
     },
     "metadata": {
      "needs_background": "light"
     },
     "output_type": "display_data"
    }
   ],
   "source": [
    "# We use the numpy randint function which returns an array of size pulled from range(1, 7) (excluding 7).\n",
    "rolls = randint(1, 7, size=10)\n",
    "sample = [y**2 for y in rolls]\n",
    "\n",
    "# graph it with a historgram. We have to do the bins by hand because matplotlib.pyplot.hist is built\n",
    "# for working with more continuous than discrete data\n",
    "plt.hist(sample, bins=[0.5, 1.5, 3, 3.5, 4.5, 5, 8.5, 9.5, 10, 15.5, 16.5, 17, 24.5, 25.5, 26, 35.5, 36.5]);"
   ]
  },
  {
   "cell_type": "code",
   "execution_count": 32,
   "metadata": {},
   "outputs": [
    {
     "data": {
      "text/plain": [
       "(12.6, 110.64000000000001)"
      ]
     },
     "execution_count": 32,
     "metadata": {},
     "output_type": "execute_result"
    }
   ],
   "source": [
    "# Numpy has mean and variance functions\n",
    "np.mean(sample), np.var(sample)"
   ]
  },
  {
   "cell_type": "code",
   "execution_count": 33,
   "metadata": {},
   "outputs": [
    {
     "data": {
      "text/plain": [
       "(12.6, 110.64000000000001)"
      ]
     },
     "execution_count": 33,
     "metadata": {},
     "output_type": "execute_result"
    }
   ],
   "source": [
    "mu = sum(sample)/len(sample)\n",
    "mu, sum([ (s - mu)**2 for s in sample])/len(sample)"
   ]
  },
  {
   "cell_type": "markdown",
   "metadata": {},
   "source": [
    "How do these compare with your computed values for the population? Later in class we will come back to exactly what we are doing here (sampling a population and comparing the statistics of the sample to the statistics of the population)."
   ]
  },
  {
   "cell_type": "code",
   "execution_count": 18,
   "metadata": {},
   "outputs": [
    {
     "data": {
      "text/plain": [
       "(15.166666666666668, 149.13888888888889)"
      ]
     },
     "execution_count": 18,
     "metadata": {},
     "output_type": "execute_result"
    }
   ],
   "source": [
    "(15.166666666666668, 149.13888888888889)"
   ]
  },
  {
   "cell_type": "code",
   "execution_count": null,
   "metadata": {},
   "outputs": [],
   "source": []
  }
 ],
 "metadata": {
  "kernelspec": {
   "display_name": "Python 3",
   "language": "python",
   "name": "python3"
  },
  "language_info": {
   "codemirror_mode": {
    "name": "ipython",
    "version": 3
   },
   "file_extension": ".py",
   "mimetype": "text/x-python",
   "name": "python",
   "nbconvert_exporter": "python",
   "pygments_lexer": "ipython3",
   "version": "3.7.4"
  }
 },
 "nbformat": 4,
 "nbformat_minor": 4
}
