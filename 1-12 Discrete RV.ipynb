{
 "cells": [
  {
   "cell_type": "code",
   "execution_count": 1,
   "metadata": {},
   "outputs": [],
   "source": [
    "# We will need a factorial and binomial coefficient function for some of the computations today\n",
    "\n",
    "def factorial(n):\n",
    "    \n",
    "    if n < 1:\n",
    "        return 1\n",
    "    else:\n",
    "        return n*factorial(n-1)\n",
    "    \n",
    "def binom(m, n):\n",
    "    \n",
    "    return factorial(m)/( factorial(m-n)*factorial(n))"
   ]
  },
  {
   "cell_type": "markdown",
   "metadata": {},
   "source": [
    "# Discrete Random Variables\n",
    "\n",
    "We start with discrete random variables. First some definitions:\n",
    "\n",
    "1. What is our definition of a *discrete random variable*?\n",
    "\n",
    "2. Can a discrete random variable take on infinitely many values? Is there anything that makes us nervous?\n",
    "\n",
    "3. Give four examples of a **real** discrete random variable:\n",
    "\n",
    "a. One of which we know the probability distribution of. <br/>\n",
    "b. One of which takes on infinitely many values. <br/>\n",
    "c. One of which is uniform?  (what do we mean by uniform?) <br/>\n",
    "d. One of which your team finds interesting. <br/>\n",
    "\n",
    "4. What is our definition of the *Probability Distribution* of a discrete random variable?\n"
   ]
  },
  {
   "cell_type": "markdown",
   "metadata": {},
   "source": [
    "5. Consider the following discrete random variable:  we roll a fair six-sided die, Y is the number facing up. What is the expected value of Y?"
   ]
  },
  {
   "cell_type": "markdown",
   "metadata": {},
   "source": [
    "6. Suppose we take the number facing up, Y, and we square it. What is the expected value of $Y^2$?"
   ]
  },
  {
   "cell_type": "markdown",
   "metadata": {},
   "source": [
    "7. A company in Greeley makes plastic face shields. 1.2% of the time the face shield has a serious flaw and needs to be discarded. Suppose we select 20 face shields at random and let Y be the number with a serious flaw.  What is the expected value of Y?"
   ]
  },
  {
   "cell_type": "code",
   "execution_count": 11,
   "metadata": {},
   "outputs": [
    {
     "data": {
      "text/plain": [
       "0.23999999999999994"
      ]
     },
     "execution_count": 11,
     "metadata": {},
     "output_type": "execute_result"
    }
   ],
   "source": [
    "# I'll do this one here as it illustrates some tricks with Python we will need\n",
    "\n",
    "P = {}\n",
    "# It is convenient to build the PDF as a Dictionary so that P[y] is the probability P(Y=y)\n",
    "\n",
    "for y in range(20):\n",
    "    P[y] = binom(20, y)*0.012**y * (1-0.012)**(20-y) \n",
    "# This is an example of a binomial probability distrubtion where the probability of a single successful trial is p.\n",
    "    \n",
    "    \n",
    "sum([ y*P[y] for y in P])\n",
    "# expected value is then computed by suming over all the values, which Python makes easy using a list generator"
   ]
  },
  {
   "cell_type": "markdown",
   "metadata": {},
   "source": [
    "8. The expected value gives us the 'center' of the random variable (or a function of it). In addition to knowing the center, we are also interested in how far the result tends to be spread from the center.\n",
    "\n",
    "Let $\\mu = E(Y)$, then we define the *variance* by $ V(Y) = \\sigma^2 = E[ (Y-\\mu)^2 ] $.  \n",
    "\n",
    "Note why this makes sense, it captures how far Y moves from its expected value.\n",
    "\n",
    "Why do we take the square?"
   ]
  },
  {
   "cell_type": "markdown",
   "metadata": {},
   "source": [
    "9. Find the variance of Y from the six sided die."
   ]
  },
  {
   "cell_type": "markdown",
   "metadata": {},
   "source": [
    "10. Find the variance of Y^2 from the six sided die."
   ]
  },
  {
   "cell_type": "markdown",
   "metadata": {},
   "source": [
    "11. Find the variance of Y from the face shields."
   ]
  },
  {
   "cell_type": "code",
   "execution_count": 12,
   "metadata": {},
   "outputs": [
    {
     "data": {
      "text/plain": [
       "0.23711999999999991"
      ]
     },
     "execution_count": 12,
     "metadata": {},
     "output_type": "execute_result"
    }
   ],
   "source": [
    "# I'll do this one here again to illustrate some tricks with Python\n",
    "\n",
    "mu = sum([ y*P[y] for y in P] )\n",
    "# let's go ahead and let Python take care of fixing the value of mu\n",
    "\n",
    "sum( [ (y-mu)**2 * P[y] for y in P] )\n",
    "# compute the expected value of (y-mu)^2 remember that **2 is ^2 in Python."
   ]
  },
  {
   "cell_type": "markdown",
   "metadata": {},
   "source": [
    "12. If Y has units, whare the units of $\\mu = E(Y)$ and $\\sigma^2 = V(Y)$?"
   ]
  },
  {
   "cell_type": "markdown",
   "metadata": {},
   "source": [
    "## An Experiement\n",
    "\n",
    "Are we sure about our computations above?  One of the great things about 2021 is that we can use Python (even on our phones using Google Colab) to check. Essentially, unlike a lot of mathematics classes, we can conduct an experiment in this class to see how close we are."
   ]
  },
  {
   "cell_type": "code",
   "execution_count": null,
   "metadata": {},
   "outputs": [],
   "source": []
  }
 ],
 "metadata": {
  "kernelspec": {
   "display_name": "Python 3",
   "language": "python",
   "name": "python3"
  },
  "language_info": {
   "codemirror_mode": {
    "name": "ipython",
    "version": 3
   },
   "file_extension": ".py",
   "mimetype": "text/x-python",
   "name": "python",
   "nbconvert_exporter": "python",
   "pygments_lexer": "ipython3",
   "version": "3.7.4"
  }
 },
 "nbformat": 4,
 "nbformat_minor": 4
}
