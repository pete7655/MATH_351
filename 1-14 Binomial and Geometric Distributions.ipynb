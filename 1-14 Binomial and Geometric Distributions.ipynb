{
 "cells": [
  {
   "cell_type": "code",
   "execution_count": 1,
   "metadata": {},
   "outputs": [],
   "source": [
    "# We will need a factorial and binomial coefficient function for some of the computations today\n",
    "\n",
    "def factorial(n):\n",
    "    \n",
    "    if n < 1:\n",
    "        return 1\n",
    "    else:\n",
    "        return n*factorial(n-1)\n",
    "    \n",
    "def binom(m, n):\n",
    "    \n",
    "    return factorial(m)/( factorial(m-n)*factorial(n))"
   ]
  },
  {
   "cell_type": "markdown",
   "metadata": {},
   "source": [
    "# Binomial Distribution\n",
    "\n",
    "A *binomial experiment* consists of:\n",
    "\n",
    "1. The experiment consists of a fixed number, $n$, of identical and independent trials.\n",
    "2. Each trial results in one of two outcomes: success, S, or failure, F.\n",
    "3. The probability of success on single trial is $p$, and thus the probability of failure on a single trial is $q = 1-p$\n",
    "4. The random variable of interest is Y, the number of successes observed during the n trials. \n",
    "\n",
    "\n",
    "## Example: COVID in Weld County\n",
    "\n",
    "At this point 6% of Weld County residents are or have been infected with the Coronavirus. Given this, if we have a class of 80 people at UNC:\n",
    "\n",
    "1. How likely is it that *exactly* one of them is or was infected?"
   ]
  },
  {
   "cell_type": "code",
   "execution_count": 2,
   "metadata": {},
   "outputs": [
    {
     "data": {
      "text/plain": [
       "(0.06, 0.94)"
      ]
     },
     "execution_count": 2,
     "metadata": {},
     "output_type": "execute_result"
    }
   ],
   "source": [
    "p = 0.06\n",
    "q = 1 - p\n",
    "p, q"
   ]
  },
  {
   "cell_type": "code",
   "execution_count": 4,
   "metadata": {},
   "outputs": [
    {
     "data": {
      "text/plain": [
       "0.036169430587516795"
      ]
     },
     "execution_count": 4,
     "metadata": {},
     "output_type": "execute_result"
    }
   ],
   "source": [
    "binom(80, 1)*p**1 *q**(80-1)"
   ]
  },
  {
   "cell_type": "markdown",
   "metadata": {},
   "source": [
    "For a binomial distribution, the probability of Y=y is given by (The probability distribution function is):\n",
    "\n",
    "$$ P(y) = \\binom{n}{y} p^y q^{n-y} $$"
   ]
  },
  {
   "cell_type": "markdown",
   "metadata": {},
   "source": [
    "2. How likely is it that *at least one* of them is or was infected?\n",
    "\n",
    "- We could ask what is the probability that no one is infected and then subtract that number from one.\n",
    "- We could add up all P(y) for y>= 1:  $$ \\sum_{y=1}^\\infty P(y) $$\n"
   ]
  },
  {
   "cell_type": "code",
   "execution_count": 5,
   "metadata": {},
   "outputs": [
    {
     "data": {
      "text/plain": [
       "(0.0070831801567220395, 0.992916819843278)"
      ]
     },
     "execution_count": 5,
     "metadata": {},
     "output_type": "execute_result"
    }
   ],
   "source": [
    "# \"at least one\" is the same as \"one or more\"\n",
    "\n",
    "P = {}\n",
    "\n",
    "P[0] = q**80\n",
    "P[0], 1 - P[0]"
   ]
  },
  {
   "cell_type": "code",
   "execution_count": 7,
   "metadata": {},
   "outputs": [
    {
     "data": {
      "text/plain": [
       "0.9929168198432734"
      ]
     },
     "execution_count": 7,
     "metadata": {},
     "output_type": "execute_result"
    }
   ],
   "source": [
    "# Let's check that if we sum up all of the P(y) for y >=1 we get the same value.\n",
    "\n",
    "P = {}\n",
    "for y in range(80+1):\n",
    "    P[y] = binom(80, y) * p**y * q**(80-y) \n",
    "    \n",
    "sum( [P[y] for y in range(1, 80+1)])"
   ]
  },
  {
   "cell_type": "markdown",
   "metadata": {},
   "source": [
    "3. How likely is it that *at most* one of them was infected?\n",
    "\n",
    "- $$ P(0) + P(1) $$\n",
    "- $$ 1 - ( P(2) + P(3) + P(4) + \\dots + P(80) ) $$"
   ]
  },
  {
   "cell_type": "code",
   "execution_count": 8,
   "metadata": {},
   "outputs": [
    {
     "data": {
      "text/plain": [
       "(0.043252610744238834, 0.04325261074424347)"
      ]
     },
     "execution_count": 8,
     "metadata": {},
     "output_type": "execute_result"
    }
   ],
   "source": [
    "P[0] + P[1], 1 - sum( [P[y] for y in range(2, 80+1) ])"
   ]
  },
  {
   "cell_type": "markdown",
   "metadata": {},
   "source": [
    "## Example:  Quality Control and working backwards\n",
    "\n",
    "We are working for a company that makes widgets. A new business is interested in working with us, but they are going to insist in the parts contract that less than 5 out of every 100 widgets we send them is defective. What do we need to get the defective rate on widgets down to in order to ensure we meet their requirement? \n",
    "\n",
    "*note* this is the way it actually works. Quality control is never about getting the number of defects to zero, it is about estimating the likeliehood and cost of a defect so that a company can account for their liability."
   ]
  },
  {
   "cell_type": "markdown",
   "metadata": {},
   "source": [
    "$$ P(y) = \\begin{pmatrix} 100 \\\\ y \\end{pmatrix} p^y (1-p)^{100-y} $$\n",
    "\n",
    "Probability that 5 or more widgets is deffective:\n",
    "$$Q(p) =  1 - \\sum_{k=0}^4 P(k) $$\n",
    "\n",
    "Note that $Q(p)$ is a polynomials of p (though of high degree)."
   ]
  },
  {
   "cell_type": "markdown",
   "metadata": {},
   "source": [
    "We could compute: \n",
    "\n",
    "$$ Q(p) = \\sum_{k=5}^{100} P(k) $$"
   ]
  },
  {
   "cell_type": "code",
   "execution_count": 10,
   "metadata": {},
   "outputs": [],
   "source": [
    "import sympy as sp\n",
    "# Package for symbolic computing in Python\n",
    "\n",
    "import matplotlib.pyplot as plt\n",
    "# Pakcage for plotting, the syntax is close to Matlab\n",
    "\n",
    "import numpy as np\n",
    "# Numerical computing package"
   ]
  },
  {
   "cell_type": "code",
   "execution_count": 11,
   "metadata": {},
   "outputs": [],
   "source": [
    "p = sp.Symbol('p')"
   ]
  },
  {
   "cell_type": "code",
   "execution_count": 12,
   "metadata": {},
   "outputs": [
    {
     "data": {
      "text/latex": [
       "$\\displaystyle - 3921225.0 p^{4} \\left(1 - p\\right)^{96} - 161700.0 p^{3} \\left(1 - p\\right)^{97} - 4950.0 p^{2} \\left(1 - p\\right)^{98} - 100.0 p \\left(1 - p\\right)^{99} - 1.0 \\left(1 - p\\right)^{100} + 1$"
      ],
      "text/plain": [
       "-3921225.0*p**4*(1 - p)**96 - 161700.0*p**3*(1 - p)**97 - 4950.0*p**2*(1 - p)**98 - 100.0*p*(1 - p)**99 - 1.0*(1 - p)**100 + 1"
      ]
     },
     "execution_count": 12,
     "metadata": {},
     "output_type": "execute_result"
    }
   ],
   "source": [
    "P = {}\n",
    "\n",
    "for k in range(100+1):\n",
    "    P[k] = binom(100, k) * p**k * (1-p)**(100-k)\n",
    "    \n",
    "Q = 1 - sum( [P[y] for y in range(5)] )\n",
    "Q"
   ]
  },
  {
   "cell_type": "code",
   "execution_count": 16,
   "metadata": {},
   "outputs": [
    {
     "data": {
      "text/plain": [
       "[<matplotlib.lines.Line2D at 0x122402850>]"
      ]
     },
     "execution_count": 16,
     "metadata": {},
     "output_type": "execute_result"
    },
    {
     "data": {
      "image/png": "[encoded data removed]",
      "text/plain": [
       "<Figure size 864x576 with 1 Axes>"
      ]
     },
     "metadata": {
      "needs_background": "light"
     },
     "output_type": "display_data"
    }
   ],
   "source": [
    "pp = np.arange(0, 1, 0.01)\n",
    "QQ = [ Q.subs(p, x) for x in pp]\n",
    "plt.figure(figsize=(12, 8))\n",
    "plt.plot(pp, QQ, 'b-')"
   ]
  },
  {
   "cell_type": "markdown",
   "metadata": {},
   "source": [
    "In practice what we would also want to know is the cost function for p:  To achieve a quality assurance of 9% or better, how much would it cost?"
   ]
  },
  {
   "cell_type": "markdown",
   "metadata": {},
   "source": [
    "## Expected Value of Binomial Distribution\n",
    "\n",
    "If Y is a binomial random variable with probability p and n trials:\n",
    "\n",
    "$$ E(Y) = p n $$\n",
    "\n",
    "$$ \\sigma^2 = V(Y) = n p q $$"
   ]
  },
  {
   "cell_type": "markdown",
   "metadata": {},
   "source": [
    "Sketch of the proof:\n",
    "\n",
    "$$ E(Y) = \\sum_{y=0}^n y \\binom{n}{y} p^y (1-p)^{n-y} $$\n",
    "\n",
    "$$ = \\sum_{y=1}^n y \\frac{n!}{(n-y)! y!} p^y (1-p)^{n-y} $$\n",
    "\n",
    "$$ = \\sum_{y=1}^n \\frac{n!}{(n-y)! (y-1)!} p^y (1-p)^{n-y} $$\n",
    "\n",
    "This last expression is a sum of terms that are very close to a binomial probability themselves. Factor out an $n p$ from each term in the sum:\n",
    "\n",
    "$$ = np \\sum_{y=1}^n \\frac{(n-1)!}{(n-1 - (y-1)!)(y-1)!} p^{y-1} (1-p)^{n-1 - (y-1)} $$\n",
    "\n",
    "and reset the index of the sum\n",
    "\n",
    "$$ = np \\sum_{y=0}^{n-1} \\binom{n-1}{y} p^y (1-p)^{n-1 - y} $$\n",
    "\n",
    "The sum is now a sum of binomial probabilities for $n-1$ trials and thus gives 1 and the result follows."
   ]
  },
  {
   "cell_type": "markdown",
   "metadata": {},
   "source": [
    "# The Geometric Distribution\n",
    "\n",
    "Similar to the Binomial Distribution, but focusing on the first success that occurs rather than the number of success after a certain number of trials. For example this matters in cases like equipment failures or other types of \"waiting time\" problems.\n",
    "\n",
    "A *geometric experiment* consists of \n",
    "1. A variable number of indepdent trials that continue until success has occured.\n",
    "2. Each trial results in one of two outcomes: success, S, or failure, F.\n",
    "3. The probability of success on single trial is $p$, and thus the probability of failure on a single trial is $q = 1-p$\n",
    "4. The random variable of interest is Y, the number of trials needed for the first success.\n",
    "\n",
    "\n",
    "$$ P(Y=y) = q^{y-1} p $$\n",
    "\n",
    "\n",
    "## Example: Engine Failure\n",
    "\n",
    "The probability that an engine in an experimental aircraft will fail in one hour of operation is $p = 0.015$. How likely is it that the engine will:\n",
    "\n",
    "1. Fail in the fifth hour of operation?"
   ]
  },
  {
   "cell_type": "markdown",
   "metadata": {},
   "source": [
    "$$ P(Y=5) = q^4 p $$"
   ]
  },
  {
   "cell_type": "code",
   "execution_count": 17,
   "metadata": {},
   "outputs": [
    {
     "data": {
      "text/plain": [
       "0.014120048259374999"
      ]
     },
     "execution_count": 17,
     "metadata": {},
     "output_type": "execute_result"
    }
   ],
   "source": [
    "p = 0.015\n",
    "q = 1 - p\n",
    "P = {}\n",
    "P[5] = q**4 * p\n",
    "P[5]"
   ]
  },
  {
   "cell_type": "markdown",
   "metadata": {},
   "source": [
    "2. Fail before the fifth hour of operation?"
   ]
  },
  {
   "cell_type": "markdown",
   "metadata": {},
   "source": [
    " - We coule compute this by taking $$ 1 - \\sum_{y=5}^\\infty P(y) $$"
   ]
  },
  {
   "cell_type": "markdown",
   "metadata": {},
   "source": [
    "- Can we compute this as a finite sum?  $$ P(1) + P(2) + P(3) + P(4) $$"
   ]
  },
  {
   "cell_type": "code",
   "execution_count": 19,
   "metadata": {},
   "outputs": [
    {
     "data": {
      "text/plain": [
       "0.058663449375"
      ]
     },
     "execution_count": 19,
     "metadata": {},
     "output_type": "execute_result"
    }
   ],
   "source": [
    "P = {}\n",
    "for y in range(1, 10):\n",
    "    P[y] = q**(y-1) * p \n",
    "    \n",
    "sum([P[y] for y in range(1, 5)])"
   ]
  },
  {
   "cell_type": "markdown",
   "metadata": {},
   "source": [
    "3. Operate without failure for five hours."
   ]
  },
  {
   "cell_type": "code",
   "execution_count": 20,
   "metadata": {},
   "outputs": [
    {
     "data": {
      "text/plain": [
       "0.9272165023656249"
      ]
     },
     "execution_count": 20,
     "metadata": {},
     "output_type": "execute_result"
    }
   ],
   "source": [
    "q**5"
   ]
  },
  {
   "cell_type": "markdown",
   "metadata": {},
   "source": [
    "## Expected Value of Geometric Variable\n",
    "\n",
    "Suppose Y is a random variable with a geometric distribution. Let's compute $E(Y)$.\n",
    "\n",
    "$$ E(Y) = \\sum_{y=1}^\\infty y P(y) = \\sum_{y=1}^\\infty y q^{y-1} p = p \\sum_{y=1}^\\infty y q^{y-1}$$\n",
    "\n",
    "The sum is suggestive of a derivative:\n",
    "\n",
    "$$ \\sum_{y=1}^\\infty y q^{y-1} = \\frac{d}{dq} \\sum_{y=1}^\\infty q^y = \\frac{d}{dq} \\frac{q}{1-q} $$\n",
    "\n",
    "The sum of q^y is almost the geometric series.\n"
   ]
  },
  {
   "cell_type": "code",
   "execution_count": 22,
   "metadata": {},
   "outputs": [],
   "source": [
    "q = sp.Symbol('q')"
   ]
  },
  {
   "cell_type": "code",
   "execution_count": 24,
   "metadata": {},
   "outputs": [
    {
     "data": {
      "text/latex": [
       "$\\displaystyle \\frac{1}{\\left(q - 1\\right)^{2}}$"
      ],
      "text/plain": [
       "(q - 1)**(-2)"
      ]
     },
     "execution_count": 24,
     "metadata": {},
     "output_type": "execute_result"
    }
   ],
   "source": [
    "sp.simplify( sp.diff( q/(1-q), q) )"
   ]
  },
  {
   "cell_type": "markdown",
   "metadata": {},
   "source": [
    "Show then that\n",
    "\n",
    "$$ E(y) = \\frac{1}{p} $$\n",
    "\n",
    "A similar derivation gives:  $$\\sigma^2 = V(Y) = \\frac{1-p}{p^2} $$"
   ]
  },
  {
   "cell_type": "markdown",
   "metadata": {},
   "source": [
    "## Example: Traffic Intersection\n",
    "\n",
    "At a particular traffic intersection we find that we have to wait on average 45 seconds for a car to go through. What is the probability p that for any given second a car goes through the intersection?\n",
    "\n",
    "$$ E(Y) = 45 = 1/p $$"
   ]
  },
  {
   "cell_type": "markdown",
   "metadata": {},
   "source": [
    "Therefore \n",
    "\n",
    "$$ p = 1/45 $$ \n",
    "\n",
    "Units of E(Y) are seconds; therefore the units of p are going to be probability per second."
   ]
  },
  {
   "cell_type": "code",
   "execution_count": 25,
   "metadata": {},
   "outputs": [
    {
     "data": {
      "text/plain": [
       "(0.022222222222222223, 0.9777777777777777)"
      ]
     },
     "execution_count": 25,
     "metadata": {},
     "output_type": "execute_result"
    }
   ],
   "source": [
    "p = 1/45\n",
    "p, 1-p"
   ]
  },
  {
   "cell_type": "markdown",
   "metadata": {},
   "source": [
    "## What is this all about really?\n",
    "\n",
    "Particularly, looking at the examples of the geometric distribution, what are we really doing?  For example, does it make sense that the probability of an engine failing in hour 5 really is independent of it having been running for four hours already?  The answer is maybe.  But how can we tell?\n",
    "\n",
    "The typical way we actually use these results is concluding that something is not a Binomial or Geometric distribution and thus that one of the assumptions (independence or the value of p maybe) is being violated.\n",
    "\n"
   ]
  },
  {
   "cell_type": "code",
   "execution_count": null,
   "metadata": {},
   "outputs": [],
   "source": []
  }
 ],
 "metadata": {
  "kernelspec": {
   "display_name": "Python 3",
   "language": "python",
   "name": "python3"
  },
  "language_info": {
   "codemirror_mode": {
    "name": "ipython",
    "version": 3
   },
   "file_extension": ".py",
   "mimetype": "text/x-python",
   "name": "python",
   "nbconvert_exporter": "python",
   "pygments_lexer": "ipython3",
   "version": "3.7.4"
  }
 },
 "nbformat": 4,
 "nbformat_minor": 4
}
