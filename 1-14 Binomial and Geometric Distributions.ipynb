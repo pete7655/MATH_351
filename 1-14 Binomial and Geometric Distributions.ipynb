{
 "cells": [
  {
   "cell_type": "code",
   "execution_count": 4,
   "metadata": {},
   "outputs": [],
   "source": [
    "# We will need a factorial and binomial coefficient function for some of the computations today\n",
    "\n",
    "def factorial(n):\n",
    "    \n",
    "    if n < 1:\n",
    "        return 1\n",
    "    else:\n",
    "        return n*factorial(n-1)\n",
    "    \n",
    "def binom(m, n):\n",
    "    \n",
    "    return factorial(m)/( factorial(m-n)*factorial(n))"
   ]
  },
  {
   "cell_type": "markdown",
   "metadata": {},
   "source": [
    "# Binomial Distribution\n",
    "\n",
    "A *binomial experiment* consists of:\n",
    "\n",
    "1. The experiment consists of a fixed number, $n$, of identical and independent trials.\n",
    "2. Each trial results in one of two outcomes: success, S, or failure, F.\n",
    "3. The probability of success on single trial is $p$, and thus the probability of failure on a single trial is $q = 1-p$\n",
    "4. The random variable of interest is Y, the number of successes observed during the n trials. \n",
    "\n",
    "\n",
    "## Example: COVID in Weld County\n",
    "\n",
    "At this point 6% of Weld County residents are or have been infected with the Coronavirus. Given this, if we have a class of 80 people at UNC:\n",
    "\n",
    "1. How likely is it that *exactly* one of them is or was infected?"
   ]
  },
  {
   "cell_type": "markdown",
   "metadata": {},
   "source": [
    "2. How likely is it that *at least one* of them is or was infected?"
   ]
  },
  {
   "cell_type": "markdown",
   "metadata": {},
   "source": [
    "3. How likely is it that *at most* one of them was infected?"
   ]
  },
  {
   "cell_type": "markdown",
   "metadata": {},
   "source": [
    "## Example:  Quality Control and working backwards\n",
    "\n",
    "We are working for a company that makes widgets. A new business is interested in working with us, but they are going to insist in the parts contract that less than 5 out of every 100 widgets we send them is defective. What do we need to get the defective rate on widgets down to in order to ensure we meet their requirement? \n",
    "\n",
    "*note* this is the way it actually works. Quality control is never about getting the number of defects to zero, it is about estimating the likeliehood and cost of a defect so that a company can account for their liability."
   ]
  },
  {
   "cell_type": "markdown",
   "metadata": {},
   "source": [
    "$$ P(y) = \\begin{pmatrix} 100 \\\\ y \\end{pmatrix} p^y (1-p)^{100-y} $$\n",
    "\n",
    "Probability that 5 or more widgets is deffective:\n",
    "$$Q(p) =  1 - \\sum_{k=0}^4 P(k) $$\n",
    "\n",
    "Note that $Q(p)$ is a polynomials of p (though of high degree)."
   ]
  },
  {
   "cell_type": "code",
   "execution_count": 8,
   "metadata": {},
   "outputs": [],
   "source": [
    "import sympy as sp\n",
    "import matplotlib.pyplot as plt\n",
    "import numpy as np"
   ]
  },
  {
   "cell_type": "code",
   "execution_count": 2,
   "metadata": {},
   "outputs": [],
   "source": [
    "p = sp.Symbol('p')"
   ]
  },
  {
   "cell_type": "code",
   "execution_count": 6,
   "metadata": {},
   "outputs": [
    {
     "data": {
      "text/latex": [
       "$\\displaystyle 3921225.0 p^{4} \\left(1 - p\\right)^{96} + 161700.0 p^{3} \\left(1 - p\\right)^{97} + 4950.0 p^{2} \\left(1 - p\\right)^{98} + 100.0 p \\left(1 - p\\right)^{99} + 1.0 \\left(1 - p\\right)^{100}$"
      ],
      "text/plain": [
       "3921225.0*p**4*(1 - p)**96 + 161700.0*p**3*(1 - p)**97 + 4950.0*p**2*(1 - p)**98 + 100.0*p*(1 - p)**99 + 1.0*(1 - p)**100"
      ]
     },
     "execution_count": 6,
     "metadata": {},
     "output_type": "execute_result"
    }
   ],
   "source": [
    "P = {}\n",
    "\n",
    "for k in range(5):\n",
    "    P[k] = binom(100, k) * p**k * (1-p)**(100-k)\n",
    "    \n",
    "Q = sum( [P[y] for y in P] )\n",
    "Q"
   ]
  },
  {
   "cell_type": "code",
   "execution_count": 20,
   "metadata": {},
   "outputs": [
    {
     "data": {
      "text/plain": [
       "[<matplotlib.lines.Line2D at 0x10d5b3590>]"
      ]
     },
     "execution_count": 20,
     "metadata": {},
     "output_type": "execute_result"
    },
    {
     "data": {
      "image/png": "[encoded data removed]",
      "text/plain": [
       "<Figure size 864x576 with 1 Axes>"
      ]
     },
     "metadata": {
      "needs_background": "light"
     },
     "output_type": "display_data"
    }
   ],
   "source": [
    "pp = np.arange(0, 1, 0.01)\n",
    "QQ = [ Q.subs(p, x) for x in pp]\n",
    "plt.figure(figsize=(12, 8))\n",
    "plt.plot(pp, QQ, 'b-')"
   ]
  },
  {
   "cell_type": "markdown",
   "metadata": {},
   "source": [
    "In practice what we would also want to know is the cost function for p:  To achieve a quality assurance of 9% or better, how much would it cost?"
   ]
  },
  {
   "cell_type": "markdown",
   "metadata": {},
   "source": [
    "## Expected Value of Binomial Distribution\n",
    "\n",
    "If Y is a binomial random variable with probability p and n trials:\n",
    "\n",
    "$$ E(Y) = p n $$\n",
    "\n",
    "$$ \\sigma^2 = V(Y) = n p q $$"
   ]
  },
  {
   "cell_type": "markdown",
   "metadata": {},
   "source": [
    "# The Geometric Distribution\n",
    "\n",
    "Similar to the Binomial Distribution, but focusing on the first success that occurs rather than the number of success after a certain number of trials. For example this matters in cases like equipment failures or other types of \"waiting time\" problems.\n",
    "\n",
    "A *geometric experiment* consists of \n",
    "1. A variable number of indepdent trials that continue until success has occured.\n",
    "2. Each trial results in one of two outcomes: success, S, or failure, F.\n",
    "3. The probability of success on single trial is $p$, and thus the probability of failure on a single trial is $q = 1-p$\n",
    "4. The random variable of interest is Y, the number of trials needed for the first success.\n",
    "\n",
    "## Example: Engine Failure\n",
    "\n",
    "The probability that an engine in an experimental aircraft will fail in one hour of operation is $p = 0.015$. How likely is it that the engine will:\n",
    "\n",
    "1. Fail in the fifth hour of operation?"
   ]
  },
  {
   "cell_type": "markdown",
   "metadata": {},
   "source": [
    "2. Fail before the fifth hour of operation?"
   ]
  },
  {
   "cell_type": "markdown",
   "metadata": {},
   "source": [
    "3. Operate without failure for five hours."
   ]
  },
  {
   "cell_type": "markdown",
   "metadata": {},
   "source": [
    "## Expected Value of Geometric Variable\n",
    "\n",
    "Suppose Y is a random variable with a geometric distribution. Let's compute $E(Y)$.\n",
    "\n",
    "$$ E(Y) = \\sum_{y=1}^\\infty y P(y) = \\sum_{y=1}^\\infty y q^{y-1} p = p \\sum_{y=1}^\\infty y q^{y-1}$$\n",
    "\n",
    "The sum is suggestive of a derivative:\n",
    "\n",
    "$$ \\sum_{y=1}^\\infty y q^{y-1} = \\frac{d}{dq} \\sum_{y=1}^\\infty q^y = \\frac{d}{dq} \\frac{q}{1-q} $$\n",
    "\n",
    "Show then that\n",
    "\n",
    "$$ E(y) = \\frac{1}{p} $$\n",
    "\n",
    "A similar derivation gives:  $$\\sigma^2 = V(Y) = \\frac{1-p}{p^2} $$"
   ]
  },
  {
   "cell_type": "markdown",
   "metadata": {},
   "source": [
    "## Example: Traffic Intersection\n",
    "\n",
    "A traffic intersection has a probability of 22% of having an a car go through it in a given minute. How long do we expect to wait for a car to go through?"
   ]
  },
  {
   "cell_type": "code",
   "execution_count": null,
   "metadata": {},
   "outputs": [],
   "source": []
  }
 ],
 "metadata": {
  "kernelspec": {
   "display_name": "Python 3",
   "language": "python",
   "name": "python3"
  },
  "language_info": {
   "codemirror_mode": {
    "name": "ipython",
    "version": 3
   },
   "file_extension": ".py",
   "mimetype": "text/x-python",
   "name": "python",
   "nbconvert_exporter": "python",
   "pygments_lexer": "ipython3",
   "version": "3.7.4"
  }
 },
 "nbformat": 4,
 "nbformat_minor": 4
}
